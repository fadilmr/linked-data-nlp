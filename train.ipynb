{
 "cells": [
  {
   "cell_type": "code",
   "execution_count": 1,
   "metadata": {},
   "outputs": [],
   "source": [
    "text = 'Pembangunan ekonomi tahun 2023 akan dilaksanakan untuk mendukung proses transformasi ekonomi setelah pada tahun sebelumnya dihadapkan pada pemulihan ekonomi dan penanganan pandemi COVID-19. Tahun 2023 merupakan momentum untuk menciptakan horizon baru pembangunan dengan menekankan pada strategi mewujudkan SDM berdaya saing, produktivitas sektor ekonomi, ekonomi hijau, transformasi digital, integrasi perekonomian domestik, dan pemindahan IKN. Proses transformasi ekonomi yang dilaksanakan oleh sektor energi, sumber daya air, UMKM, pariwisata, pertanian, industri, perdagangan, keuangan, dan sektor lainnya akan menghadapi tantangan yang membutuhkan kebijakan dan strategi untuk dapat mencapai sasaran pembangunan nasional. Untuk mendukung pemenuhan kebutuhan energi dengan mengutamakan peningkatan Energi Baru Terbarukan (EBT), tantangan yang dihadapi terkait fokus produktivitas adalah tingginya ketergantungan terhadap energi fosil yang produktivitasnya semakin menurun dan berkontribusi terhadap defisit perdagangan dan nilai transaksi berjalan yang turut menurunkan potensi pertumbuhan ekonomi nasional. Tantangan yang terkait fokus pembangunan berkelanjutan adalah (1) pengembangan EBT masih terkendala dengan belum kompetitifnya harga jual dan (2) pengembangan EBT berbasis kelapa sawit masih bersinggungan dengan isu konservasi dan keberlanjutan. Adapun tantangan yang terkait fokus inklusif yaitu (1) kebijakan subsidi dan insentif yang belum optimal, (2) kondisi kelistrikan yang over-supply di beberapa daerah sementara akses masyarakat daerah tertinggal pada energi khususnya EBT skala kecil masih sangat terbatas dengan adanya keterbatasan kewenangan pemerintah daerah, dan (3) faktor intermittence dari beberapa teknologi Pembangkit Listrik Teknologi (PLT) EBT. Indikator target sasaran prioritas nasional rencana kerja pemerintah rkp rpjmn rencana pembangunan jangka menengah'"
   ]
  },
  {
   "cell_type": "code",
   "execution_count": 6,
   "metadata": {},
   "outputs": [
    {
     "ename": "ImportError",
     "evalue": "cannot import name 'convertToSpacy' from 'biotagging' (c:\\Kuliah\\Magang\\linked-data-nlp\\biotagging.py)",
     "output_type": "error",
     "traceback": [
      "\u001b[1;31m---------------------------------------------------------------------------\u001b[0m",
      "\u001b[1;31mImportError\u001b[0m                               Traceback (most recent call last)",
      "\u001b[1;32mc:\\Kuliah\\Magang\\linked-data-nlp\\train.ipynb Cell 2\u001b[0m in \u001b[0;36m<cell line: 1>\u001b[1;34m()\u001b[0m\n\u001b[1;32m----> <a href='vscode-notebook-cell:/c%3A/Kuliah/Magang/linked-data-nlp/train.ipynb#W1sZmlsZQ%3D%3D?line=0'>1</a>\u001b[0m \u001b[39mfrom\u001b[39;00m \u001b[39mbiotagging\u001b[39;00m \u001b[39mimport\u001b[39;00m text_to_tagDF, convertToSpacy\n\u001b[0;32m      <a href='vscode-notebook-cell:/c%3A/Kuliah/Magang/linked-data-nlp/train.ipynb#W1sZmlsZQ%3D%3D?line=1'>2</a>\u001b[0m \u001b[39mimport\u001b[39;00m \u001b[39mpandas\u001b[39;00m \u001b[39mas\u001b[39;00m \u001b[39mpd\u001b[39;00m\n\u001b[0;32m      <a href='vscode-notebook-cell:/c%3A/Kuliah/Magang/linked-data-nlp/train.ipynb#W1sZmlsZQ%3D%3D?line=2'>3</a>\u001b[0m tagready_df \u001b[39m=\u001b[39m text_to_tagDF(pd\u001b[39m.\u001b[39mSeries([text]))\n",
      "\u001b[1;31mImportError\u001b[0m: cannot import name 'convertToSpacy' from 'biotagging' (c:\\Kuliah\\Magang\\linked-data-nlp\\biotagging.py)"
     ]
    }
   ],
   "source": [
    "from biotagging import text_to_tagDF\n",
    "\n",
    "tagready_df = text_to_tagDF(pd.Series([text]))"
   ]
  },
  {
   "cell_type": "code",
   "execution_count": 10,
   "metadata": {},
   "outputs": [
    {
     "data": {
      "text/html": [
       "<div>\n",
       "<style scoped>\n",
       "    .dataframe tbody tr th:only-of-type {\n",
       "        vertical-align: middle;\n",
       "    }\n",
       "\n",
       "    .dataframe tbody tr th {\n",
       "        vertical-align: top;\n",
       "    }\n",
       "\n",
       "    .dataframe thead th {\n",
       "        text-align: right;\n",
       "    }\n",
       "</style>\n",
       "<table border=\"1\" class=\"dataframe\">\n",
       "  <thead>\n",
       "    <tr style=\"text-align: right;\">\n",
       "      <th></th>\n",
       "      <th>token_1</th>\n",
       "      <th>BIO_tag_1</th>\n",
       "    </tr>\n",
       "  </thead>\n",
       "  <tbody>\n",
       "    <tr>\n",
       "      <th>0</th>\n",
       "      <td>Pembangunan</td>\n",
       "      <td></td>\n",
       "    </tr>\n",
       "    <tr>\n",
       "      <th>1</th>\n",
       "      <td></td>\n",
       "      <td>O</td>\n",
       "    </tr>\n",
       "    <tr>\n",
       "      <th>2</th>\n",
       "      <td>ekonomi</td>\n",
       "      <td></td>\n",
       "    </tr>\n",
       "    <tr>\n",
       "      <th>3</th>\n",
       "      <td></td>\n",
       "      <td>O</td>\n",
       "    </tr>\n",
       "    <tr>\n",
       "      <th>4</th>\n",
       "      <td>tahun</td>\n",
       "      <td></td>\n",
       "    </tr>\n",
       "    <tr>\n",
       "      <th>...</th>\n",
       "      <td>...</td>\n",
       "      <td>...</td>\n",
       "    </tr>\n",
       "    <tr>\n",
       "      <th>496</th>\n",
       "      <td>pembangunan</td>\n",
       "      <td></td>\n",
       "    </tr>\n",
       "    <tr>\n",
       "      <th>497</th>\n",
       "      <td></td>\n",
       "      <td>O</td>\n",
       "    </tr>\n",
       "    <tr>\n",
       "      <th>498</th>\n",
       "      <td>jangka</td>\n",
       "      <td></td>\n",
       "    </tr>\n",
       "    <tr>\n",
       "      <th>499</th>\n",
       "      <td></td>\n",
       "      <td>O</td>\n",
       "    </tr>\n",
       "    <tr>\n",
       "      <th>500</th>\n",
       "      <td>menengah</td>\n",
       "      <td></td>\n",
       "    </tr>\n",
       "  </tbody>\n",
       "</table>\n",
       "<p>501 rows × 2 columns</p>\n",
       "</div>"
      ],
      "text/plain": [
       "         token_1 BIO_tag_1\n",
       "0    Pembangunan          \n",
       "1                        O\n",
       "2        ekonomi          \n",
       "3                        O\n",
       "4          tahun          \n",
       "..           ...       ...\n",
       "496  pembangunan          \n",
       "497                      O\n",
       "498       jangka          \n",
       "499                      O\n",
       "500     menengah          \n",
       "\n",
       "[501 rows x 2 columns]"
      ]
     },
     "execution_count": 10,
     "metadata": {},
     "output_type": "execute_result"
    }
   ],
   "source": [
    "tagready_df"
   ]
  },
  {
   "cell_type": "code",
   "execution_count": 7,
   "metadata": {},
   "outputs": [],
   "source": [
    "link_for_save = \"text_tagged.csv\"\n",
    "tagready_df.to_csv(link_for_save , index=False)"
   ]
  },
  {
   "cell_type": "code",
   "execution_count": 1,
   "metadata": {},
   "outputs": [],
   "source": [
    "from convert import convert_to_spaCyformat\n",
    "import pandas as pd"
   ]
  },
  {
   "cell_type": "code",
   "execution_count": 2,
   "metadata": {},
   "outputs": [],
   "source": [
    "annotations = sorted([\n",
    "    'rkp',\n",
    "    'rpjmn',\n",
    "    'predikat',\n",
    "    'pn',\n",
    "    'datain',\n",
    "    'sasaran'\n",
    "])\n",
    "\n",
    "dftagged = pd.read_csv('text_tagged.csv')"
   ]
  },
  {
   "cell_type": "code",
   "execution_count": 3,
   "metadata": {},
   "outputs": [],
   "source": [
    "dftagged.dropna(inplace=True)"
   ]
  },
  {
   "cell_type": "code",
   "execution_count": 4,
   "metadata": {},
   "outputs": [
    {
     "data": {
      "text/html": [
       "<div>\n",
       "<style scoped>\n",
       "    .dataframe tbody tr th:only-of-type {\n",
       "        vertical-align: middle;\n",
       "    }\n",
       "\n",
       "    .dataframe tbody tr th {\n",
       "        vertical-align: top;\n",
       "    }\n",
       "\n",
       "    .dataframe thead th {\n",
       "        text-align: right;\n",
       "    }\n",
       "</style>\n",
       "<table border=\"1\" class=\"dataframe\">\n",
       "  <thead>\n",
       "    <tr style=\"text-align: right;\">\n",
       "      <th></th>\n",
       "      <th>token_1</th>\n",
       "      <th>BIO_tag_1</th>\n",
       "    </tr>\n",
       "  </thead>\n",
       "  <tbody>\n",
       "    <tr>\n",
       "      <th>0</th>\n",
       "      <td>Pembangunan</td>\n",
       "      <td>o</td>\n",
       "    </tr>\n",
       "    <tr>\n",
       "      <th>2</th>\n",
       "      <td>ekonomi</td>\n",
       "      <td>o</td>\n",
       "    </tr>\n",
       "    <tr>\n",
       "      <th>4</th>\n",
       "      <td>tahun</td>\n",
       "      <td>o</td>\n",
       "    </tr>\n",
       "    <tr>\n",
       "      <th>6</th>\n",
       "      <td>2023</td>\n",
       "      <td>o</td>\n",
       "    </tr>\n",
       "    <tr>\n",
       "      <th>8</th>\n",
       "      <td>akan</td>\n",
       "      <td>O</td>\n",
       "    </tr>\n",
       "    <tr>\n",
       "      <th>...</th>\n",
       "      <td>...</td>\n",
       "      <td>...</td>\n",
       "    </tr>\n",
       "    <tr>\n",
       "      <th>475</th>\n",
       "      <td>rpjmn</td>\n",
       "      <td>b-rpjmn</td>\n",
       "    </tr>\n",
       "    <tr>\n",
       "      <th>477</th>\n",
       "      <td>rencana</td>\n",
       "      <td>b-rpjmn</td>\n",
       "    </tr>\n",
       "    <tr>\n",
       "      <th>479</th>\n",
       "      <td>pembangunan</td>\n",
       "      <td>i-rpjmn</td>\n",
       "    </tr>\n",
       "    <tr>\n",
       "      <th>481</th>\n",
       "      <td>jangka</td>\n",
       "      <td>i-rpjmn</td>\n",
       "    </tr>\n",
       "    <tr>\n",
       "      <th>483</th>\n",
       "      <td>menengah</td>\n",
       "      <td>e-rpjmn</td>\n",
       "    </tr>\n",
       "  </tbody>\n",
       "</table>\n",
       "<p>247 rows × 2 columns</p>\n",
       "</div>"
      ],
      "text/plain": [
       "         token_1 BIO_tag_1\n",
       "0    Pembangunan         o\n",
       "2        ekonomi         o\n",
       "4          tahun         o\n",
       "6           2023         o\n",
       "8           akan         O\n",
       "..           ...       ...\n",
       "475        rpjmn   b-rpjmn\n",
       "477      rencana   b-rpjmn\n",
       "479  pembangunan   i-rpjmn\n",
       "481       jangka   i-rpjmn\n",
       "483     menengah   e-rpjmn\n",
       "\n",
       "[247 rows x 2 columns]"
      ]
     },
     "execution_count": 4,
     "metadata": {},
     "output_type": "execute_result"
    }
   ],
   "source": [
    "dftagged"
   ]
  },
  {
   "cell_type": "code",
   "execution_count": 5,
   "metadata": {},
   "outputs": [],
   "source": [
    "train_data = convert_to_spaCyformat(dftagged, annotations)"
   ]
  },
  {
   "cell_type": "code",
   "execution_count": 6,
   "metadata": {},
   "outputs": [
    {
     "data": {
      "text/plain": [
       "['Pembangunanekonomitahun2023akandilaksanakanuntukmendukungprosestransformasiekonomisetelahpadatahunsebelumnyadihadapkanpadapemulihanekonomidanpenangananpandemiCOVID-19.Tahun2023merupakanmomentumuntukmenciptakanhorizonbarupembangunandenganmenekankanpadastrategimewujudkanSDMberdayasaingproduktivitassektorekonomiekonomihijautransformasidigitalintegrasiperekonomiandomestikdanpemindahanIKNProsestransformasiekonomiyangdilaksanakanolehsektorenergisumberdayaairUMKMpariwisatapertanianindustriperdagangankeuangandanakanyangdanuntukdapatmencapaisasaranpembangunannasional.UntukmendukungpemenuhankebutuhanenergidenganmengutamakanpeningkatanEnergiBaruTerbarukan(EBT)tantanganyangdihadapiterkaitfokusproduktivitasadalahtingginyaketergantunganterhadapenergifosilyangproduktivitasnyasemakinmenurundanberkontribusiterhadapdefisitperdagangandannilaitransaksiberjalanyangturutmenurunkanpotensipertumbuhanekonominasional.Tantanganyangterkaitfokuspembangunanberkelanjutanadalah(1)pengembanganEBTmasihterkendaladenganbelumkompetitifnyahargajualdan(2)pengembanganEBTberbasiskelapasawitmasihbersinggungandenganisukonservasidankeberlanjutan.Adapuntantanganyangterkaitfokusinklusifyaitu(1)kebijakansubsididaninsentifyangbelumoptimal(2)kondisikelistrikanyangover-supplydibeberapadaerahsementaraaksesmasyarakatdaerahtertinggalpadaenergikhususnyaEBTskalakecilmasihsangatterbatasdenganadanyaketerbatasankewenanganpemerintahdaerahdan(3)faktorintermittencedaribeberapateknologiPembangkitListrikTeknologi(PLT)EBT.Indikatortargetsasaranprioritasnasionalrencanakerjapemerintahrkprpjmnrencanapembangunanjangkamenengah',\n",
       " {'entities': [(538, 545, 'sasaran'),\n",
       "   (632, 652, 'datain'),\n",
       "   (653, 656, 'datain'),\n",
       "   (975, 978, 'datain'),\n",
       "   (1044, 1047, 'datain'),\n",
       "   (1321, 1324, 'datain'),\n",
       "   (1480, 1483, 'datain'),\n",
       "   (1484, 1493, 'predikat'),\n",
       "   (1493, 1499, 'predikat'),\n",
       "   (1499, 1506, 'sasaran'),\n",
       "   (1506, 1523, 'pn'),\n",
       "   (1523, 1545, 'rkp'),\n",
       "   (1545, 1548, 'rkp'),\n",
       "   (1548, 1553, 'rpjmn'),\n",
       "   (1553, 1585, 'rpjmn')]}]"
      ]
     },
     "execution_count": 6,
     "metadata": {},
     "output_type": "execute_result"
    }
   ],
   "source": [
    "train_data"
   ]
  },
  {
   "cell_type": "code",
   "execution_count": 7,
   "metadata": {},
   "outputs": [],
   "source": [
    "from train_spacy import train_spacy"
   ]
  },
  {
   "cell_type": "code",
   "execution_count": 8,
   "metadata": {},
   "outputs": [
    {
     "name": "stdout",
     "output_type": "stream",
     "text": [
      "Starting iteration 0\n",
      "{'ner': 6.95054803788662}\n",
      "Starting iteration 1\n",
      "{'ner': 6.871861483901739}\n",
      "Starting iteration 2\n"
     ]
    },
    {
     "name": "stderr",
     "output_type": "stream",
     "text": [
      "c:\\Users\\Fadil\\anaconda3\\envs\\tf\\lib\\site-packages\\spacy\\training\\iob_utils.py:149: UserWarning: [W030] Some entities could not be aligned in the text \"Pembangunanekonomitahun2023akandilaksanakanuntukme...\" with entities \"[(538, 545, 'sasaran'), (632, 652, 'datain'), (653...\". Use `spacy.training.offsets_to_biluo_tags(nlp.make_doc(text), entities)` to check the alignment. Misaligned entities ('-') will be ignored during training.\n",
      "  warnings.warn(\n"
     ]
    },
    {
     "name": "stdout",
     "output_type": "stream",
     "text": [
      "{'ner': 6.778069246560335}\n",
      "Starting iteration 3\n",
      "{'ner': 6.664375454187393}\n",
      "Starting iteration 4\n",
      "{'ner': 6.562712138518691}\n",
      "Starting iteration 5\n",
      "{'ner': 6.411454821005464}\n",
      "Starting iteration 6\n",
      "{'ner': 6.185427196323872}\n",
      "Starting iteration 7\n",
      "{'ner': 5.808193681761622}\n",
      "Starting iteration 8\n",
      "{'ner': 5.7170869167894125}\n",
      "Starting iteration 9\n",
      "{'ner': 4.56855701841414}\n",
      "Starting iteration 10\n",
      "{'ner': 4.143666062504053}\n",
      "Starting iteration 11\n",
      "{'ner': 3.1608036253601313}\n",
      "Starting iteration 12\n",
      "{'ner': 2.1620181426405907}\n",
      "Starting iteration 13\n",
      "{'ner': 0.8584939939901233}\n",
      "Starting iteration 14\n",
      "{'ner': 0.5126307886093855}\n",
      "Starting iteration 15\n",
      "{'ner': 0.4057180539239198}\n",
      "Starting iteration 16\n",
      "{'ner': 0.06929645812488161}\n",
      "Starting iteration 17\n",
      "{'ner': 0.03568204395924113}\n",
      "Starting iteration 18\n",
      "{'ner': 0.0159715435264971}\n",
      "Starting iteration 19\n",
      "{'ner': 0.008921265529703737}\n",
      "Starting iteration 20\n",
      "{'ner': 9.042214081929345e-05}\n",
      "Starting iteration 21\n",
      "{'ner': 4.194689551807393e-05}\n",
      "Starting iteration 22\n",
      "{'ner': 5.453582463739448e-06}\n",
      "Starting iteration 23\n",
      "{'ner': 2.519722857126135e-09}\n",
      "Starting iteration 24\n",
      "{'ner': 5.603612422569197e-09}\n",
      "Starting iteration 25\n",
      "{'ner': 1.525061025046584e-09}\n",
      "Starting iteration 26\n",
      "{'ner': 2.0756924029763144e-12}\n",
      "Starting iteration 27\n",
      "{'ner': 4.608742315809882e-12}\n",
      "Starting iteration 28\n",
      "{'ner': 1.214570317391198e-11}\n",
      "Starting iteration 29\n",
      "{'ner': 4.713380485801194e-14}\n",
      "Starting iteration 30\n",
      "{'ner': 4.283289385233459e-14}\n",
      "Starting iteration 31\n",
      "{'ner': 5.589079282116163e-16}\n",
      "Starting iteration 32\n",
      "{'ner': 9.32437255639915e-18}\n",
      "Starting iteration 33\n",
      "{'ner': 4.072880223765575e-16}\n",
      "Starting iteration 34\n",
      "{'ner': 3.3520510633674473e-21}\n",
      "Starting iteration 35\n",
      "{'ner': 4.773383303310171e-22}\n",
      "Starting iteration 36\n",
      "{'ner': 1.9005922010465895e-22}\n",
      "Starting iteration 37\n",
      "{'ner': 7.80372972752596e-23}\n",
      "Starting iteration 38\n",
      "{'ner': 2.6554438849323964e-24}\n",
      "Starting iteration 39\n",
      "{'ner': 6.799893989034119e-19}\n",
      "Starting iteration 40\n",
      "{'ner': 2.363055132765182e-21}\n",
      "Starting iteration 41\n",
      "{'ner': 5.868589748057581e-26}\n",
      "Starting iteration 42\n",
      "{'ner': 1.8800415555857658e-23}\n",
      "Starting iteration 43\n",
      "{'ner': 7.235706007323889e-22}\n",
      "Starting iteration 44\n",
      "{'ner': 1.3873074933895726e-25}\n",
      "Starting iteration 45\n",
      "{'ner': 6.321743064302895e-22}\n",
      "Starting iteration 46\n",
      "{'ner': 2.8509432693820667e-20}\n",
      "Starting iteration 47\n",
      "{'ner': 3.6408612623942e-26}\n",
      "Starting iteration 48\n",
      "{'ner': 1.9216565816804963e-23}\n",
      "Starting iteration 49\n",
      "{'ner': 1.725335397503772e-22}\n",
      "Starting iteration 50\n",
      "{'ner': 8.375205066052369e-19}\n",
      "Starting iteration 51\n",
      "{'ner': 3.490694359991818e-27}\n",
      "Starting iteration 52\n",
      "{'ner': 3.682663141918535e-25}\n",
      "Starting iteration 53\n",
      "{'ner': 1.124833952200894e-25}\n",
      "Starting iteration 54\n",
      "{'ner': 6.575655410392439e-27}\n",
      "Starting iteration 55\n",
      "{'ner': 3.0259501341003563e-27}\n",
      "Starting iteration 56\n",
      "{'ner': 9.202011822515732e-23}\n",
      "Starting iteration 57\n",
      "{'ner': 3.711589053689278e-25}\n",
      "Starting iteration 58\n",
      "{'ner': 1.5177554014890849e-27}\n",
      "Starting iteration 59\n",
      "{'ner': 6.851423878235616e-25}\n",
      "Starting iteration 60\n",
      "{'ner': 3.9301385109047814e-26}\n",
      "Starting iteration 61\n",
      "{'ner': 6.073097788890866e-28}\n",
      "Starting iteration 62\n",
      "{'ner': 1.6248959206390228e-24}\n",
      "Starting iteration 63\n",
      "{'ner': 5.559196133742726e-23}\n",
      "Starting iteration 64\n",
      "{'ner': 9.381308591313316e-27}\n",
      "Starting iteration 65\n",
      "{'ner': 1.0850095641288986e-29}\n",
      "Starting iteration 66\n",
      "{'ner': 4.080896170288979e-27}\n",
      "Starting iteration 67\n",
      "{'ner': 2.604503646423328e-26}\n",
      "Starting iteration 68\n",
      "{'ner': 1.2251628071052545e-27}\n",
      "Starting iteration 69\n",
      "{'ner': 1.2898165150056616e-28}\n",
      "Starting iteration 70\n",
      "{'ner': 6.410359980004757e-28}\n",
      "Starting iteration 71\n",
      "{'ner': 5.077392230236083e-27}\n",
      "Starting iteration 72\n",
      "{'ner': 1.432415103431011e-26}\n",
      "Starting iteration 73\n",
      "{'ner': 1.2724580813202958e-29}\n",
      "Starting iteration 74\n",
      "{'ner': 2.9573157692183213e-32}\n",
      "Starting iteration 75\n",
      "{'ner': 1.1043122237209065e-23}\n",
      "Starting iteration 76\n",
      "{'ner': 1.361763207944008e-24}\n",
      "Starting iteration 77\n",
      "{'ner': 2.6736346526237256e-28}\n",
      "Starting iteration 78\n",
      "{'ner': 2.2136878143844475e-22}\n",
      "Starting iteration 79\n",
      "{'ner': 3.02146497507753e-26}\n",
      "Starting iteration 80\n",
      "{'ner': 5.849283219838019e-27}\n",
      "Starting iteration 81\n",
      "{'ner': 2.5688444046907766e-25}\n",
      "Starting iteration 82\n",
      "{'ner': 9.895396838917031e-22}\n",
      "Starting iteration 83\n",
      "{'ner': 2.5650184543673105e-26}\n",
      "Starting iteration 84\n",
      "{'ner': 7.164144355337309e-32}\n",
      "Starting iteration 85\n",
      "{'ner': 7.506319765857677e-26}\n",
      "Starting iteration 86\n",
      "{'ner': 9.234255815937003e-28}\n",
      "Starting iteration 87\n",
      "{'ner': 1.1514568982761385e-26}\n",
      "Starting iteration 88\n",
      "{'ner': 1.5119557473188758e-27}\n",
      "Starting iteration 89\n",
      "{'ner': 5.864602330478296e-28}\n",
      "Starting iteration 90\n",
      "{'ner': 1.8898360057474276e-29}\n",
      "Starting iteration 91\n",
      "{'ner': 1.1440534480789252e-28}\n",
      "Starting iteration 92\n",
      "{'ner': 2.1185139366169515e-25}\n",
      "Starting iteration 93\n",
      "{'ner': 1.8592601963312742e-26}\n",
      "Starting iteration 94\n",
      "{'ner': 1.008590629996693e-24}\n",
      "Starting iteration 95\n",
      "{'ner': 2.0002250647916083e-30}\n",
      "Starting iteration 96\n",
      "{'ner': 5.152542187658801e-22}\n",
      "Starting iteration 97\n",
      "{'ner': 4.685096667479195e-23}\n",
      "Starting iteration 98\n",
      "{'ner': 8.783197732500639e-27}\n",
      "Starting iteration 99\n",
      "{'ner': 6.066665758035464e-26}\n"
     ]
    },
    {
     "data": {
      "image/png": "[encoded data removed]",
      "text/plain": [
       "<Figure size 864x576 with 1 Axes>"
      ]
     },
     "metadata": {
      "needs_background": "light"
     },
     "output_type": "display_data"
    }
   ],
   "source": [
    "model, loss = train_spacy([train_data], 100) # using 100 iterations\n",
    "\n",
    "# we'd like to plot loss\n",
    "from matplotlib import pyplot as plt\n",
    "\n",
    "# plotting loss\n",
    "plt.figure(figsize=(12,8))\n",
    "plt.plot([i['ner'] for i in loss])\n",
    "plt.grid()\n",
    "plt.title('Loss Function')\n",
    "plt.xlabel('Epoch')\n",
    "plt.ylabel('Loss')\n",
    "plt.show()"
   ]
  },
  {
   "cell_type": "code",
   "execution_count": 10,
   "metadata": {},
   "outputs": [],
   "source": [
    "model.to_disk(\"model\")"
   ]
  },
  {
   "cell_type": "code",
   "execution_count": 15,
   "metadata": {},
   "outputs": [
    {
     "data": {
      "text/html": [
       "<span class=\"tex2jax_ignore\"><div class=\"entities\" style=\"line-height: 2.5; direction: ltr\"> dan pemindahan IKN. Proses transformasi ekonomi yang dilaksanakan oleh sektor energi, sumber daya air, UMKM, \n",
       "<mark class=\"entity\" style=\"background: #ddd; padding: 0.45em 0.6em; margin: 0 0.25em; line-height: 1; border-radius: 0.35em;\">\n",
       "    pariwisata, pertanian, industri, perdagangan, keuangan, dan sektor lainnya akan menghadapi tantangan yang membutuhkan kebijakan dan strategi untuk dapat mencapai sasaran pembangunan nasional. Untuk mendukung pemenuhan kebutuhan energi dengan mengutamakan peningkatan Energi Baru Terbarukan (EBT), tantangan yang dihadapi terkait fokus produktivitas adalah tingginya ketergantungan terhadap energi fosil yang produktivitasnya semakin menurun dan berkontribusi terhadap defisit perdagangan dan nilai transaksi berjalan yang turut menurunkan potensi pertumbuhan ekonomi nasional. Tantangan yang terkait fokus pembangunan berkelanjutan adalah (1) pengembangan EBT masih terkendala dengan belum kompetitifnya harga jual dan (2) pengembangan EBT berbasis kelapa sawit masih bersinggungan dengan isu konservasi dan keberlanjutan. Adapun tantangan yang terkait fokus inklusif yaitu (1) kebijakan subsidi dan insentif yang belum optimal, (2) kondisi kelistrikan yang over-supply di beberapa daerah sementara akses masyarakat daerah tertinggal pada energi khususnya EBT skala kecil masih sangat terbatas dengan adanya keterbatasan kewenangan pemerintah daerah, dan (3) faktor intermittence dari beberapa teknologi Pembangkit Listrik Teknologi (PLT) EBT. Indikator target sasaran prioritas nasional rencana kerja pemerintah rkp rpjmn rencana pembangunan jangka menengah\n",
       "    <span style=\"font-size: 0.8em; font-weight: bold; line-height: 1; border-radius: 0.35em; vertical-align: middle; margin-left: 0.5rem\">sasaran</span>\n",
       "</mark>\n",
       "</div></span>"
      ],
      "text/plain": [
       "<IPython.core.display.HTML object>"
      ]
     },
     "metadata": {},
     "output_type": "display_data"
    }
   ],
   "source": [
    "from spacy import load, displacy\n",
    "\n",
    "# import model\n",
    "link_to_model = \"model\"\n",
    "loaded_model = load(link_to_model)\n",
    "\n",
    "test_text = \"\"\" dan pemindahan IKN. Proses transformasi ekonomi yang dilaksanakan oleh sektor energi, sumber daya air, UMKM, pariwisata, pertanian, industri, perdagangan, keuangan, dan sektor lainnya akan menghadapi tantangan yang membutuhkan kebijakan dan strategi untuk dapat mencapai sasaran pembangunan nasional. Untuk mendukung pemenuhan kebutuhan energi dengan mengutamakan peningkatan Energi Baru Terbarukan (EBT), tantangan yang dihadapi terkait fokus produktivitas adalah tingginya ketergantungan terhadap energi fosil yang produktivitasnya semakin menurun dan berkontribusi terhadap defisit perdagangan dan nilai transaksi berjalan yang turut menurunkan potensi pertumbuhan ekonomi nasional. Tantangan yang terkait fokus pembangunan berkelanjutan adalah (1) pengembangan EBT masih terkendala dengan belum kompetitifnya harga jual dan (2) pengembangan EBT berbasis kelapa sawit masih bersinggungan dengan isu konservasi dan keberlanjutan. Adapun tantangan yang terkait fokus inklusif yaitu (1) kebijakan subsidi dan insentif yang belum optimal, (2) kondisi kelistrikan yang over-supply di beberapa daerah sementara akses masyarakat daerah tertinggal pada energi khususnya EBT skala kecil masih sangat terbatas dengan adanya keterbatasan kewenangan pemerintah daerah, dan (3) faktor intermittence dari beberapa teknologi Pembangkit Listrik Teknologi (PLT) EBT. Indikator target sasaran prioritas nasional rencana kerja pemerintah rkp rpjmn rencana pembangunan jangka menengah\"\"\"\n",
    "\n",
    "# show the results\n",
    "doc = loaded_model(test_text)\n",
    "displacy.render(doc, style=\"ent\")"
   ]
  },
  {
   "cell_type": "code",
   "execution_count": null,
   "metadata": {},
   "outputs": [],
   "source": []
  }
 ],
 "metadata": {
  "kernelspec": {
   "display_name": "Python 3.9.16 ('tf')",
   "language": "python",
   "name": "python3"
  },
  "language_info": {
   "codemirror_mode": {
    "name": "ipython",
    "version": 3
   },
   "file_extension": ".py",
   "mimetype": "text/x-python",
   "name": "python",
   "nbconvert_exporter": "python",
   "pygments_lexer": "ipython3",
   "version": "3.9.16"
  },
  "orig_nbformat": 4,
  "vscode": {
   "interpreter": {
    "hash": "68667cee94a52a8012b3723ad81f8b1bb04bd9bd3431088fcb835e1cebcfdae3"
   }
  }
 },
 "nbformat": 4,
 "nbformat_minor": 2
}
