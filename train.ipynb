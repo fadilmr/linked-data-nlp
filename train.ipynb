{
 "cells": [
  {
   "cell_type": "code",
   "execution_count": 1,
   "metadata": {},
   "outputs": [],
   "source": [
    "text = 'Pembangunan ekonomi tahun 2023 akan dilaksanakan untuk mendukung proses transformasi ekonomi setelah pada tahun sebelumnya dihadapkan pada pemulihan ekonomi dan penanganan pandemi COVID-19. Tahun 2023 merupakan momentum untuk menciptakan horizon baru pembangunan dengan menekankan pada strategi mewujudkan SDM berdaya saing, produktivitas sektor ekonomi, ekonomi hijau, transformasi digital, integrasi perekonomian domestik, dan pemindahan IKN. Proses transformasi ekonomi yang dilaksanakan oleh sektor energi, sumber daya air, UMKM, pariwisata, pertanian, industri, perdagangan, keuangan, dan sektor lainnya akan menghadapi tantangan yang membutuhkan kebijakan dan strategi untuk dapat mencapai sasaran pembangunan nasional. Untuk mendukung pemenuhan kebutuhan energi dengan mengutamakan peningkatan Energi Baru Terbarukan (EBT), tantangan yang dihadapi terkait fokus produktivitas adalah tingginya ketergantungan terhadap energi fosil yang produktivitasnya semakin menurun dan berkontribusi terhadap defisit perdagangan dan nilai transaksi berjalan yang turut menurunkan potensi pertumbuhan ekonomi nasional. Tantangan yang terkait fokus pembangunan berkelanjutan adalah (1) pengembangan EBT masih terkendala dengan belum kompetitifnya harga jual dan (2) pengembangan EBT berbasis kelapa sawit masih bersinggungan dengan isu konservasi dan keberlanjutan. Adapun tantangan yang terkait fokus inklusif yaitu (1) kebijakan subsidi dan insentif yang belum optimal, (2) kondisi kelistrikan yang over-supply di beberapa daerah sementara akses masyarakat daerah tertinggal pada energi khususnya EBT skala kecil masih sangat terbatas dengan adanya keterbatasan kewenangan pemerintah daerah, dan (3) faktor intermittence dari beberapa teknologi Pembangkit Listrik Teknologi (PLT) EBT. Indikator target sasaran prioritas nasional rencana kerja pemerintah rkp rpjmn rencana pembangunan jangka menengah'"
   ]
  },
  {
   "cell_type": "code",
   "execution_count": 6,
   "metadata": {},
   "outputs": [
    {
     "ename": "ImportError",
     "evalue": "cannot import name 'convertToSpacy' from 'biotagging' (c:\\Kuliah\\Magang\\linked-data-nlp\\biotagging.py)",
     "output_type": "error",
     "traceback": [
      "\u001b[1;31m---------------------------------------------------------------------------\u001b[0m",
      "\u001b[1;31mImportError\u001b[0m                               Traceback (most recent call last)",
      "\u001b[1;32mc:\\Kuliah\\Magang\\linked-data-nlp\\train.ipynb Cell 2\u001b[0m in \u001b[0;36m<cell line: 1>\u001b[1;34m()\u001b[0m\n\u001b[1;32m----> <a href='vscode-notebook-cell:/c%3A/Kuliah/Magang/linked-data-nlp/train.ipynb#W1sZmlsZQ%3D%3D?line=0'>1</a>\u001b[0m \u001b[39mfrom\u001b[39;00m \u001b[39mbiotagging\u001b[39;00m \u001b[39mimport\u001b[39;00m text_to_tagDF, convertToSpacy\n\u001b[0;32m      <a href='vscode-notebook-cell:/c%3A/Kuliah/Magang/linked-data-nlp/train.ipynb#W1sZmlsZQ%3D%3D?line=1'>2</a>\u001b[0m \u001b[39mimport\u001b[39;00m \u001b[39mpandas\u001b[39;00m \u001b[39mas\u001b[39;00m \u001b[39mpd\u001b[39;00m\n\u001b[0;32m      <a href='vscode-notebook-cell:/c%3A/Kuliah/Magang/linked-data-nlp/train.ipynb#W1sZmlsZQ%3D%3D?line=2'>3</a>\u001b[0m tagready_df \u001b[39m=\u001b[39m text_to_tagDF(pd\u001b[39m.\u001b[39mSeries([text]))\n",
      "\u001b[1;31mImportError\u001b[0m: cannot import name 'convertToSpacy' from 'biotagging' (c:\\Kuliah\\Magang\\linked-data-nlp\\biotagging.py)"
     ]
    }
   ],
   "source": [
    "from biotagging import text_to_tagDF\n",
    "\n",
    "tagready_df = text_to_tagDF(pd.Series([text]))"
   ]
  },
  {
   "cell_type": "code",
   "execution_count": 10,
   "metadata": {},
   "outputs": [
    {
     "data": {
      "text/html": [
       "<div>\n",
       "<style scoped>\n",
       "    .dataframe tbody tr th:only-of-type {\n",
       "        vertical-align: middle;\n",
       "    }\n",
       "\n",
       "    .dataframe tbody tr th {\n",
       "        vertical-align: top;\n",
       "    }\n",
       "\n",
       "    .dataframe thead th {\n",
       "        text-align: right;\n",
       "    }\n",
       "</style>\n",
       "<table border=\"1\" class=\"dataframe\">\n",
       "  <thead>\n",
       "    <tr style=\"text-align: right;\">\n",
       "      <th></th>\n",
       "      <th>token_1</th>\n",
       "      <th>BIO_tag_1</th>\n",
       "    </tr>\n",
       "  </thead>\n",
       "  <tbody>\n",
       "    <tr>\n",
       "      <th>0</th>\n",
       "      <td>Pembangunan</td>\n",
       "      <td></td>\n",
       "    </tr>\n",
       "    <tr>\n",
       "      <th>1</th>\n",
       "      <td></td>\n",
       "      <td>O</td>\n",
       "    </tr>\n",
       "    <tr>\n",
       "      <th>2</th>\n",
       "      <td>ekonomi</td>\n",
       "      <td></td>\n",
       "    </tr>\n",
       "    <tr>\n",
       "      <th>3</th>\n",
       "      <td></td>\n",
       "      <td>O</td>\n",
       "    </tr>\n",
       "    <tr>\n",
       "      <th>4</th>\n",
       "      <td>tahun</td>\n",
       "      <td></td>\n",
       "    </tr>\n",
       "    <tr>\n",
       "      <th>...</th>\n",
       "      <td>...</td>\n",
       "      <td>...</td>\n",
       "    </tr>\n",
       "    <tr>\n",
       "      <th>496</th>\n",
       "      <td>pembangunan</td>\n",
       "      <td></td>\n",
       "    </tr>\n",
       "    <tr>\n",
       "      <th>497</th>\n",
       "      <td></td>\n",
       "      <td>O</td>\n",
       "    </tr>\n",
       "    <tr>\n",
       "      <th>498</th>\n",
       "      <td>jangka</td>\n",
       "      <td></td>\n",
       "    </tr>\n",
       "    <tr>\n",
       "      <th>499</th>\n",
       "      <td></td>\n",
       "      <td>O</td>\n",
       "    </tr>\n",
       "    <tr>\n",
       "      <th>500</th>\n",
       "      <td>menengah</td>\n",
       "      <td></td>\n",
       "    </tr>\n",
       "  </tbody>\n",
       "</table>\n",
       "<p>501 rows × 2 columns</p>\n",
       "</div>"
      ],
      "text/plain": [
       "         token_1 BIO_tag_1\n",
       "0    Pembangunan          \n",
       "1                        O\n",
       "2        ekonomi          \n",
       "3                        O\n",
       "4          tahun          \n",
       "..           ...       ...\n",
       "496  pembangunan          \n",
       "497                      O\n",
       "498       jangka          \n",
       "499                      O\n",
       "500     menengah          \n",
       "\n",
       "[501 rows x 2 columns]"
      ]
     },
     "execution_count": 10,
     "metadata": {},
     "output_type": "execute_result"
    }
   ],
   "source": [
    "tagready_df"
   ]
  },
  {
   "cell_type": "code",
   "execution_count": 7,
   "metadata": {},
   "outputs": [],
   "source": [
    "link_for_save = \"text_tagged.csv\"\n",
    "tagready_df.to_csv(link_for_save , index=False)"
   ]
  },
  {
   "cell_type": "code",
   "execution_count": 1,
   "metadata": {},
   "outputs": [],
   "source": [
    "from convert import convert_to_spaCyformat\n",
    "import pandas as pd"
   ]
  },
  {
   "cell_type": "code",
   "execution_count": 2,
   "metadata": {},
   "outputs": [],
   "source": [
    "annotations = sorted([\n",
    "    'rkp',\n",
    "    'rpjmn',\n",
    "    'predikat',\n",
    "    'pn',\n",
    "    'datain',\n",
    "    'sasaran'\n",
    "])\n",
    "\n",
    "dftagged = pd.read_csv('text_tagged.csv')"
   ]
  },
  {
   "cell_type": "code",
   "execution_count": 3,
   "metadata": {},
   "outputs": [],
   "source": [
    "dftagged.dropna(inplace=True)"
   ]
  },
  {
   "cell_type": "code",
   "execution_count": 4,
   "metadata": {},
   "outputs": [
    {
     "data": {
      "text/html": [
       "<div>\n",
       "<style scoped>\n",
       "    .dataframe tbody tr th:only-of-type {\n",
       "        vertical-align: middle;\n",
       "    }\n",
       "\n",
       "    .dataframe tbody tr th {\n",
       "        vertical-align: top;\n",
       "    }\n",
       "\n",
       "    .dataframe thead th {\n",
       "        text-align: right;\n",
       "    }\n",
       "</style>\n",
       "<table border=\"1\" class=\"dataframe\">\n",
       "  <thead>\n",
       "    <tr style=\"text-align: right;\">\n",
       "      <th></th>\n",
       "      <th>token_1</th>\n",
       "      <th>BIO_tag_1</th>\n",
       "    </tr>\n",
       "  </thead>\n",
       "  <tbody>\n",
       "    <tr>\n",
       "      <th>0</th>\n",
       "      <td>Pembangunan</td>\n",
       "      <td>o</td>\n",
       "    </tr>\n",
       "    <tr>\n",
       "      <th>2</th>\n",
       "      <td>ekonomi</td>\n",
       "      <td>o</td>\n",
       "    </tr>\n",
       "    <tr>\n",
       "      <th>4</th>\n",
       "      <td>tahun</td>\n",
       "      <td>o</td>\n",
       "    </tr>\n",
       "    <tr>\n",
       "      <th>6</th>\n",
       "      <td>2023</td>\n",
       "      <td>o</td>\n",
       "    </tr>\n",
       "    <tr>\n",
       "      <th>8</th>\n",
       "      <td>akan</td>\n",
       "      <td>O</td>\n",
       "    </tr>\n",
       "    <tr>\n",
       "      <th>...</th>\n",
       "      <td>...</td>\n",
       "      <td>...</td>\n",
       "    </tr>\n",
       "    <tr>\n",
       "      <th>475</th>\n",
       "      <td>rpjmn</td>\n",
       "      <td>b-rpjmn</td>\n",
       "    </tr>\n",
       "    <tr>\n",
       "      <th>477</th>\n",
       "      <td>rencana</td>\n",
       "      <td>b-rpjmn</td>\n",
       "    </tr>\n",
       "    <tr>\n",
       "      <th>479</th>\n",
       "      <td>pembangunan</td>\n",
       "      <td>i-rpjmn</td>\n",
       "    </tr>\n",
       "    <tr>\n",
       "      <th>481</th>\n",
       "      <td>jangka</td>\n",
       "      <td>i-rpjmn</td>\n",
       "    </tr>\n",
       "    <tr>\n",
       "      <th>483</th>\n",
       "      <td>menengah</td>\n",
       "      <td>e-rpjmn</td>\n",
       "    </tr>\n",
       "  </tbody>\n",
       "</table>\n",
       "<p>247 rows × 2 columns</p>\n",
       "</div>"
      ],
      "text/plain": [
       "         token_1 BIO_tag_1\n",
       "0    Pembangunan         o\n",
       "2        ekonomi         o\n",
       "4          tahun         o\n",
       "6           2023         o\n",
       "8           akan         O\n",
       "..           ...       ...\n",
       "475        rpjmn   b-rpjmn\n",
       "477      rencana   b-rpjmn\n",
       "479  pembangunan   i-rpjmn\n",
       "481       jangka   i-rpjmn\n",
       "483     menengah   e-rpjmn\n",
       "\n",
       "[247 rows x 2 columns]"
      ]
     },
     "execution_count": 4,
     "metadata": {},
     "output_type": "execute_result"
    }
   ],
   "source": [
    "dftagged"
   ]
  },
  {
   "cell_type": "code",
   "execution_count": 5,
   "metadata": {},
   "outputs": [],
   "source": [
    "train_data = convert_to_spaCyformat(dftagged, annotations)"
   ]
  },
  {
   "cell_type": "code",
   "execution_count": 6,
   "metadata": {},
   "outputs": [
    {
     "data": {
      "text/plain": [
       "['Pembangunanekonomitahun2023akandilaksanakanuntukmendukungprosestransformasiekonomisetelahpadatahunsebelumnyadihadapkanpadapemulihanekonomidanpenangananpandemiCOVID-19.Tahun2023merupakanmomentumuntukmenciptakanhorizonbarupembangunandenganmenekankanpadastrategimewujudkanSDMberdayasaingproduktivitassektorekonomiekonomihijautransformasidigitalintegrasiperekonomiandomestikdanpemindahanIKNProsestransformasiekonomiyangdilaksanakanolehsektorenergisumberdayaairUMKMpariwisatapertanianindustriperdagangankeuangandanakanyangdanuntukdapatmencapaisasaranpembangunannasional.UntukmendukungpemenuhankebutuhanenergidenganmengutamakanpeningkatanEnergiBaruTerbarukan(EBT)tantanganyangdihadapiterkaitfokusproduktivitasadalahtingginyaketergantunganterhadapenergifosilyangproduktivitasnyasemakinmenurundanberkontribusiterhadapdefisitperdagangandannilaitransaksiberjalanyangturutmenurunkanpotensipertumbuhanekonominasional.Tantanganyangterkaitfokuspembangunanberkelanjutanadalah(1)pengembanganEBTmasihterkendaladenganbelumkompetitifnyahargajualdan(2)pengembanganEBTberbasiskelapasawitmasihbersinggungandenganisukonservasidankeberlanjutan.Adapuntantanganyangterkaitfokusinklusifyaitu(1)kebijakansubsididaninsentifyangbelumoptimal(2)kondisikelistrikanyangover-supplydibeberapadaerahsementaraaksesmasyarakatdaerahtertinggalpadaenergikhususnyaEBTskalakecilmasihsangatterbatasdenganadanyaketerbatasankewenanganpemerintahdaerahdan(3)faktorintermittencedaribeberapateknologiPembangkitListrikTeknologi(PLT)EBT.Indikatortargetsasaranprioritasnasionalrencanakerjapemerintahrkprpjmnrencanapembangunanjangkamenengah',\n",
       " {'entities': [(538, 545, 'sasaran'),\n",
       "   (632, 652, 'datain'),\n",
       "   (653, 656, 'datain'),\n",
       "   (975, 978, 'datain'),\n",
       "   (1044, 1047, 'datain'),\n",
       "   (1321, 1324, 'datain'),\n",
       "   (1480, 1483, 'datain'),\n",
       "   (1484, 1493, 'predikat'),\n",
       "   (1493, 1499, 'predikat'),\n",
       "   (1499, 1506, 'sasaran'),\n",
       "   (1506, 1523, 'pn'),\n",
       "   (1523, 1545, 'rkp'),\n",
       "   (1545, 1548, 'rkp'),\n",
       "   (1548, 1553, 'rpjmn'),\n",
       "   (1553, 1585, 'rpjmn')]}]"
      ]
     },
     "execution_count": 6,
     "metadata": {},
     "output_type": "execute_result"
    }
   ],
   "source": [
    "train_data"
   ]
  },
  {
   "cell_type": "code",
   "execution_count": 7,
   "metadata": {},
   "outputs": [],
   "source": [
    "from train_spacy import train_spacy"
   ]
  },
  {
   "cell_type": "code",
   "execution_count": 8,
   "metadata": {},
   "outputs": [
    {
     "name": "stdout",
     "output_type": "stream",
     "text": [
      "Starting iteration 0\n"
     ]
    },
    {
     "ename": "ValueError",
     "evalue": "[E989] `nlp.update()` was called with two positional arguments. This may be due to a backwards-incompatible change to the format of the training data in spaCy 3.0 onwards. The 'update' function should now be called with a batch of Example objects, instead of `(text, annotation)` tuples. ",
     "output_type": "error",
     "traceback": [
      "\u001b[1;31m---------------------------------------------------------------------------\u001b[0m",
      "\u001b[1;31mValueError\u001b[0m                                Traceback (most recent call last)",
      "\u001b[1;32mc:\\Kuliah\\Magang\\linked-data-nlp\\train.ipynb Cell 12\u001b[0m in \u001b[0;36m<cell line: 1>\u001b[1;34m()\u001b[0m\n\u001b[1;32m----> <a href='vscode-notebook-cell:/c%3A/Kuliah/Magang/linked-data-nlp/train.ipynb#X25sZmlsZQ%3D%3D?line=0'>1</a>\u001b[0m model, loss \u001b[39m=\u001b[39m train_spacy([train_data], \u001b[39m100\u001b[39;49m) \u001b[39m# using 100 iterations\u001b[39;00m\n\u001b[0;32m      <a href='vscode-notebook-cell:/c%3A/Kuliah/Magang/linked-data-nlp/train.ipynb#X25sZmlsZQ%3D%3D?line=2'>3</a>\u001b[0m \u001b[39m# we'd like to plot loss\u001b[39;00m\n\u001b[0;32m      <a href='vscode-notebook-cell:/c%3A/Kuliah/Magang/linked-data-nlp/train.ipynb#X25sZmlsZQ%3D%3D?line=3'>4</a>\u001b[0m \u001b[39mfrom\u001b[39;00m \u001b[39mmatplotlib\u001b[39;00m \u001b[39mimport\u001b[39;00m pyplot \u001b[39mas\u001b[39;00m plt\n",
      "File \u001b[1;32mc:\\Kuliah\\Magang\\linked-data-nlp\\train_spacy.py:69\u001b[0m, in \u001b[0;36mtrain_spacy\u001b[1;34m(data, iterations, learn_rate, beta1, beta2, eps, L2, max_grad_norm)\u001b[0m\n\u001b[0;32m     59\u001b[0m \u001b[39m#             for batch in batches:\u001b[39;00m\n\u001b[0;32m     60\u001b[0m \u001b[39m#                 texts, annotations = zip(*batch)\u001b[39;00m\n\u001b[0;32m     61\u001b[0m \u001b[39m#                 nlp.update(\u001b[39;00m\n\u001b[1;32m   (...)\u001b[0m\n\u001b[0;32m     65\u001b[0m \u001b[39m#                     sgd= optimizer,\u001b[39;00m\n\u001b[0;32m     66\u001b[0m \u001b[39m#                     losses=losses)\u001b[39;00m\n\u001b[0;32m     68\u001b[0m             \u001b[39mfor\u001b[39;00m text, annotations \u001b[39min\u001b[39;00m TRAIN_DATA:\n\u001b[1;32m---> 69\u001b[0m                 nlp\u001b[39m.\u001b[39;49mupdate(\n\u001b[0;32m     70\u001b[0m                     [text],  \u001b[39m# batch of texts\u001b[39;49;00m\n\u001b[0;32m     71\u001b[0m                     [annotations],  \u001b[39m# batch of annotations\u001b[39;49;00m\n\u001b[0;32m     72\u001b[0m                     \u001b[39m# drop=next(dropout),  # dropout - make it harder to memorise data\u001b[39;49;00m\n\u001b[0;32m     73\u001b[0m                     sgd\u001b[39m=\u001b[39;49moptimizer,  \u001b[39m# callable to update weights\u001b[39;49;00m\n\u001b[0;32m     74\u001b[0m                     losses\u001b[39m=\u001b[39;49mlosses)\n\u001b[0;32m     76\u001b[0m             \u001b[39mprint\u001b[39m(losses)\n\u001b[0;32m     77\u001b[0m             loss_list\u001b[39m.\u001b[39mappend(losses)\n",
      "File \u001b[1;32mc:\\Users\\Fadil\\anaconda3\\envs\\tf\\lib\\site-packages\\spacy\\language.py:1164\u001b[0m, in \u001b[0;36mLanguage.update\u001b[1;34m(self, examples, _, drop, sgd, losses, component_cfg, exclude, annotates)\u001b[0m\n\u001b[0;32m   1146\u001b[0m \u001b[39m\"\"\"Update the models in the pipeline.\u001b[39;00m\n\u001b[0;32m   1147\u001b[0m \n\u001b[0;32m   1148\u001b[0m \u001b[39mexamples (Iterable[Example]): A batch of examples\u001b[39;00m\n\u001b[1;32m   (...)\u001b[0m\n\u001b[0;32m   1161\u001b[0m \u001b[39mDOCS: https://spacy.io/api/language#update\u001b[39;00m\n\u001b[0;32m   1162\u001b[0m \u001b[39m\"\"\"\u001b[39;00m\n\u001b[0;32m   1163\u001b[0m \u001b[39mif\u001b[39;00m _ \u001b[39mis\u001b[39;00m \u001b[39mnot\u001b[39;00m \u001b[39mNone\u001b[39;00m:\n\u001b[1;32m-> 1164\u001b[0m     \u001b[39mraise\u001b[39;00m \u001b[39mValueError\u001b[39;00m(Errors\u001b[39m.\u001b[39mE989)\n\u001b[0;32m   1165\u001b[0m \u001b[39mif\u001b[39;00m losses \u001b[39mis\u001b[39;00m \u001b[39mNone\u001b[39;00m:\n\u001b[0;32m   1166\u001b[0m     losses \u001b[39m=\u001b[39m {}\n",
      "\u001b[1;31mValueError\u001b[0m: [E989] `nlp.update()` was called with two positional arguments. This may be due to a backwards-incompatible change to the format of the training data in spaCy 3.0 onwards. The 'update' function should now be called with a batch of Example objects, instead of `(text, annotation)` tuples. "
     ]
    }
   ],
   "source": [
    "model, loss = train_spacy([train_data], 100) # using 100 iterations\n",
    "\n",
    "# we'd like to plot loss\n",
    "from matplotlib import pyplot as plt\n",
    "\n",
    "# plotting loss\n",
    "plt.figure(figsize=(12,8))\n",
    "plt.plot([i['ner'] for i in loss])\n",
    "plt.grid()\n",
    "plt.title('Loss Function')\n",
    "plt.xlabel('Epoch')\n",
    "plt.ylabel('Loss')\n",
    "plt.show()"
   ]
  }
 ],
 "metadata": {
  "kernelspec": {
   "display_name": "Python 3.9.16 ('tf')",
   "language": "python",
   "name": "python3"
  },
  "language_info": {
   "codemirror_mode": {
    "name": "ipython",
    "version": 3
   },
   "file_extension": ".py",
   "mimetype": "text/x-python",
   "name": "python",
   "nbconvert_exporter": "python",
   "pygments_lexer": "ipython3",
   "version": "3.9.16"
  },
  "orig_nbformat": 4,
  "vscode": {
   "interpreter": {
    "hash": "68667cee94a52a8012b3723ad81f8b1bb04bd9bd3431088fcb835e1cebcfdae3"
   }
  }
 },
 "nbformat": 4,
 "nbformat_minor": 2
}
