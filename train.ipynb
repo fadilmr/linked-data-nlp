{
 "cells": [
  {
   "cell_type": "code",
   "execution_count": 8,
   "metadata": {},
   "outputs": [],
   "source": [
    "text = 'Pembangunan ekonomi tahun 2023 akan dilaksanakan untuk mendukung proses transformasi ekonomi setelah pada tahun sebelumnya dihadapkan pada pemulihan ekonomi dan penanganan pandemi COVID-19. Tahun 2023 merupakan momentum untuk menciptakan horizon baru pembangunan dengan menekankan pada strategi mewujudkan SDM berdaya saing, produktivitas sektor ekonomi, ekonomi hijau, transformasi digital, integrasi perekonomian domestik, dan pemindahan IKN. Proses transformasi ekonomi yang dilaksanakan oleh sektor energi, sumber daya air, UMKM, pariwisata, pertanian, industri, perdagangan, keuangan, dan sektor lainnya akan menghadapi tantangan yang membutuhkan kebijakan dan strategi untuk dapat mencapai sasaran pembangunan nasional. Untuk mendukung pemenuhan kebutuhan energi dengan mengutamakan peningkatan Energi Baru Terbarukan (EBT), tantangan yang dihadapi terkait fokus produktivitas adalah tingginya ketergantungan terhadap energi fosil yang produktivitasnya semakin menurun dan berkontribusi terhadap defisit perdagangan dan nilai transaksi berjalan yang turut menurunkan potensi pertumbuhan ekonomi nasional. Tantangan yang terkait fokus pembangunan berkelanjutan adalah (1) pengembangan EBT masih terkendala dengan belum kompetitifnya harga jual dan (2) pengembangan EBT berbasis kelapa sawit masih bersinggungan dengan isu konservasi dan keberlanjutan. Adapun tantangan yang terkait fokus inklusif yaitu (1) kebijakan subsidi dan insentif yang belum optimal, (2) kondisi kelistrikan yang over-supply di beberapa daerah sementara akses masyarakat daerah tertinggal pada energi khususnya EBT skala kecil masih sangat terbatas dengan adanya keterbatasan kewenangan pemerintah daerah, dan (3) faktor intermittence dari beberapa teknologi Pembangkit Listrik Teknologi (PLT) EBT. Indikator target sasaran prioritas nasional rencana kerja pemerintah rkp rpjmn rencana pembangunan jangka menengah'"
   ]
  },
  {
   "cell_type": "code",
   "execution_count": 9,
   "metadata": {},
   "outputs": [
    {
     "name": "stderr",
     "output_type": "stream",
     "text": [
      "1it [00:00,  6.20it/s]\n"
     ]
    }
   ],
   "source": [
    "from biotagging import text_to_tagDF\n",
    "import pandas as pd\n",
    "tagready_df = text_to_tagDF(pd.Series([text]))"
   ]
  },
  {
   "cell_type": "code",
   "execution_count": 10,
   "metadata": {},
   "outputs": [
    {
     "data": {
      "text/html": [
       "<div>\n",
       "<style scoped>\n",
       "    .dataframe tbody tr th:only-of-type {\n",
       "        vertical-align: middle;\n",
       "    }\n",
       "\n",
       "    .dataframe tbody tr th {\n",
       "        vertical-align: top;\n",
       "    }\n",
       "\n",
       "    .dataframe thead th {\n",
       "        text-align: right;\n",
       "    }\n",
       "</style>\n",
       "<table border=\"1\" class=\"dataframe\">\n",
       "  <thead>\n",
       "    <tr style=\"text-align: right;\">\n",
       "      <th></th>\n",
       "      <th>token_1</th>\n",
       "      <th>BIO_tag_1</th>\n",
       "    </tr>\n",
       "  </thead>\n",
       "  <tbody>\n",
       "    <tr>\n",
       "      <th>0</th>\n",
       "      <td>Pembangunan</td>\n",
       "      <td></td>\n",
       "    </tr>\n",
       "    <tr>\n",
       "      <th>1</th>\n",
       "      <td></td>\n",
       "      <td>O</td>\n",
       "    </tr>\n",
       "    <tr>\n",
       "      <th>2</th>\n",
       "      <td>ekonomi</td>\n",
       "      <td></td>\n",
       "    </tr>\n",
       "    <tr>\n",
       "      <th>3</th>\n",
       "      <td></td>\n",
       "      <td>O</td>\n",
       "    </tr>\n",
       "    <tr>\n",
       "      <th>4</th>\n",
       "      <td>tahun</td>\n",
       "      <td></td>\n",
       "    </tr>\n",
       "    <tr>\n",
       "      <th>...</th>\n",
       "      <td>...</td>\n",
       "      <td>...</td>\n",
       "    </tr>\n",
       "    <tr>\n",
       "      <th>496</th>\n",
       "      <td>pembangunan</td>\n",
       "      <td></td>\n",
       "    </tr>\n",
       "    <tr>\n",
       "      <th>497</th>\n",
       "      <td></td>\n",
       "      <td>O</td>\n",
       "    </tr>\n",
       "    <tr>\n",
       "      <th>498</th>\n",
       "      <td>jangka</td>\n",
       "      <td></td>\n",
       "    </tr>\n",
       "    <tr>\n",
       "      <th>499</th>\n",
       "      <td></td>\n",
       "      <td>O</td>\n",
       "    </tr>\n",
       "    <tr>\n",
       "      <th>500</th>\n",
       "      <td>menengah</td>\n",
       "      <td></td>\n",
       "    </tr>\n",
       "  </tbody>\n",
       "</table>\n",
       "<p>501 rows × 2 columns</p>\n",
       "</div>"
      ],
      "text/plain": [
       "         token_1 BIO_tag_1\n",
       "0    Pembangunan          \n",
       "1                        O\n",
       "2        ekonomi          \n",
       "3                        O\n",
       "4          tahun          \n",
       "..           ...       ...\n",
       "496  pembangunan          \n",
       "497                      O\n",
       "498       jangka          \n",
       "499                      O\n",
       "500     menengah          \n",
       "\n",
       "[501 rows x 2 columns]"
      ]
     },
     "execution_count": 10,
     "metadata": {},
     "output_type": "execute_result"
    }
   ],
   "source": [
    "tagready_df"
   ]
  },
  {
   "cell_type": "code",
   "execution_count": 7,
   "metadata": {},
   "outputs": [],
   "source": [
    "link_for_save = \"text_tagged.csv\"\n",
    "tagready_df.to_csv(link_for_save , index=False)"
   ]
  },
  {
   "cell_type": "code",
   "execution_count": null,
   "metadata": {},
   "outputs": [],
   "source": []
  }
 ],
 "metadata": {
  "kernelspec": {
   "display_name": "Python 3.9.16 ('tf')",
   "language": "python",
   "name": "python3"
  },
  "language_info": {
   "codemirror_mode": {
    "name": "ipython",
    "version": 3
   },
   "file_extension": ".py",
   "mimetype": "text/x-python",
   "name": "python",
   "nbconvert_exporter": "python",
   "pygments_lexer": "ipython3",
   "version": "3.9.16"
  },
  "orig_nbformat": 4,
  "vscode": {
   "interpreter": {
    "hash": "68667cee94a52a8012b3723ad81f8b1bb04bd9bd3431088fcb835e1cebcfdae3"
   }
  }
 },
 "nbformat": 4,
 "nbformat_minor": 2
}
