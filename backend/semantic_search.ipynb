{
 "cells": [
  {
   "cell_type": "code",
   "execution_count": 1,
   "metadata": {},
   "outputs": [],
   "source": [
    "from rdflib import Graph, Literal, URIRef\n",
    "from rdflib.namespace import RDF\n",
    "from query import get_query"
   ]
  },
  {
   "cell_type": "code",
   "execution_count": 2,
   "metadata": {},
   "outputs": [
    {
     "data": {
      "text/plain": [
       "<Graph identifier=N6780a478759d451b811ae3dbba308617 (<class 'rdflib.graph.Graph'>)>"
      ]
     },
     "execution_count": 2,
     "metadata": {},
     "output_type": "execute_result"
    }
   ],
   "source": [
    "g = Graph()\n",
    "g.parse(\"linked_data.ttl\", format=\"turtle\")"
   ]
  },
  {
   "cell_type": "markdown",
   "metadata": {},
   "source": [
    "### Test"
   ]
  },
  {
   "cell_type": "code",
   "execution_count": 9,
   "metadata": {},
   "outputs": [
    {
     "data": {
      "text/plain": [
       "['target', 'sasaran', 'pn1', '2023']"
      ]
     },
     "execution_count": 9,
     "metadata": {},
     "output_type": "execute_result"
    }
   ],
   "source": [
    "user_query = \"target sasaran pn 1 2023\"\n",
    "keywords = user_query.split()\n",
    "keywords"
   ]
  },
  {
   "cell_type": "code",
   "execution_count": 10,
   "metadata": {},
   "outputs": [],
   "source": [
    "# sparql_query = \"\"\"\n",
    "#     PREFIX rdf: <http://www.w3.org/1999/02/22-rdf-syntax-ns#>\n",
    "#     PREFIX owl: <http://www.w3.org/2002/07/owl#>\n",
    "#     PREFIX rdfs: <http://www.w3.org/2000/01/rdf-schema#>\n",
    "#     prefix table: <http://www.semanticweb.org/fadil/ontologies/2023/7/ldt#/>\n",
    "#     SELECT ?subject ?predicate ?object\n",
    "#     WHERE {{\n",
    "#         ?subject ?predicate ?object .\n",
    "#         FILTER CONTAINS((?object), \"{}\") .\n",
    "#     }}\n",
    "# \"\"\".format(keywords[2].lower())\n",
    "\n",
    "sparql_query = \"\"\"\n",
    "    prefix table: <http://www.semanticweb.org/fadil/ontologies/2023/7/ldt#/>\n",
    "    PREFIX rdf: <http://www.w3.org/1999/02/22-rdf-syntax-ns#>\n",
    "    PREFIX owl: <http://www.w3.org/2002/07/owl#>\n",
    "    PREFIX rdfs: <http://www.w3.org/2000/01/rdf-schema#>\n",
    "\n",
    "    select ?indikator ?target\n",
    "    where {\n",
    "        ?program rdfs:label ?programtitle .\n",
    "        ?sasaran table:ssrnpp ?program .\n",
    "        ?sasaran table:indikator ?temp .\n",
    "        ?temp rdfs:label ?indikator .\n",
    "        ?temp table:target ?target\n",
    "        FILTER CONTAINS((?programtitle), \"pp 5 - pn 1 2023\")\n",
    "}\n",
    "\"\"\""
   ]
  },
  {
   "cell_type": "code",
   "execution_count": 11,
   "metadata": {},
   "outputs": [],
   "source": [
    "user_query = \"target sasaran program prioritas 1 - prioritas nasional 1 2023\"\n",
    "keywords = user_query.split()"
   ]
  },
  {
   "cell_type": "code",
   "execution_count": 12,
   "metadata": {},
   "outputs": [
    {
     "data": {
      "text/plain": [
       "'ssrnpp'"
      ]
     },
     "execution_count": 12,
     "metadata": {},
     "output_type": "execute_result"
    }
   ],
   "source": [
    "relation = \"\"\n",
    "if keywords[2][:2].lower() == \"pn\" or keywords[2].lower() == \"prioritas\" and keywords[3].lower() == \"nasional\":\n",
    "    relation = \"ssrnpn\"\n",
    "elif keywords[2][:2].lower() == \"pp\" or keywords[2].lower() == \"program\" and keywords[3].lower() == \"prioritas\":\n",
    "    relation = \"ssrnpp\"\n",
    "    \n",
    "relation"
   ]
  },
  {
   "cell_type": "code",
   "execution_count": 13,
   "metadata": {},
   "outputs": [
    {
     "data": {
      "text/plain": [
       "'pp 1 - pn 1 2023'"
      ]
     },
     "execution_count": 13,
     "metadata": {},
     "output_type": "execute_result"
    }
   ],
   "source": [
    "search_pattern = \" \".join(keywords[2:])\n",
    "if \"prioritas nasional\" in search_pattern.lower():\n",
    "    search_pattern = search_pattern.replace(\"prioritas nasional\", \"pn\")\n",
    "if \"program prioritas\" in search_pattern.lower():\n",
    "    search_pattern = search_pattern.replace(\"program prioritas\", \"pp\")\n",
    "search_pattern"
   ]
  },
  {
   "cell_type": "code",
   "execution_count": 14,
   "metadata": {},
   "outputs": [],
   "source": [
    "# sparql_query = \"\"\"\n",
    "#     PREFIX table: <http://www.semanticweb.org/fadil/ontologies/2023/7/ldt#/>\n",
    "#     PREFIX rdf: <http://www.w3.org/1999/02/22-rdf-syntax-ns#>\n",
    "#     PREFIX rdfs: <http://www.w3.org/2000/01/rdf-schema#>\n",
    "\n",
    "#     SELECT ?subject ?object\n",
    "#     WHERE {\n",
    "#         ?program rdfs:label ?programtitle .\n",
    "        \n",
    "#         OPTIONAL {\n",
    "#             ?sasaran ?relation ?program .\n",
    "#             BIND(?relation AS ?relationType)\n",
    "#         }\n",
    "        \n",
    "#         ?sasaran table:indikator ?temp .\n",
    "#         ?temp rdfs:label ?indikator .\n",
    "#         ?temp table:target ?object\n",
    "        \n",
    "#         FILTER CONTAINS(?programtitle, ?searchPattern)\n",
    "#     }\n",
    "# \"\"\"\n",
    "\n",
    "sparql_query = \"\"\"\n",
    "    PREFIX table: <http://www.semanticweb.org/fadil/ontologies/2023/7/ldt#/>\n",
    "    PREFIX rdf: <http://www.w3.org/1999/02/22-rdf-syntax-ns#>\n",
    "    PREFIX rdfs: <http://www.w3.org/2000/01/rdf-schema#>\n",
    "\n",
    "    SELECT ?indikator ?target\n",
    "    WHERE {\n",
    "        ?program rdfs:label ?programtitle .\n",
    "        ?sasaran ?relation ?program .\n",
    "        ?sasaran table:indikator ?temp .\n",
    "        ?temp rdfs:label ?indikator .\n",
    "        ?temp table:target ?target\n",
    "        FILTER (?programtitle = ?searchPattern)\n",
    "    }\n",
    "\"\"\""
   ]
  },
  {
   "cell_type": "code",
   "execution_count": 25,
   "metadata": {},
   "outputs": [
    {
     "name": "stdout",
     "output_type": "stream",
     "text": [
      "['target', 'sasaran', 'pn', '1', '2023']\n"
     ]
    }
   ],
   "source": [
    "user_query = input(\"Masukkan query: \")\n",
    "keywords = user_query.split()\n",
    "\n",
    "print(keywords)\n",
    "\n",
    "# relation\n",
    "relation = \"\"\n",
    "if keywords[2][:2].lower() == \"pn\" or keywords[2].lower() == \"prioritas\" and keywords[3].lower() == \"nasional\":\n",
    "    relation = \"ssrnpn\"\n",
    "elif keywords[2][:2].lower() == \"pp\" or keywords[2].lower() == \"program\" and keywords[3].lower() == \"prioritas\":\n",
    "    relation = \"ssrnpp\"\n",
    "    \n",
    "# search pattern\n",
    "search_pattern = \" \".join(keywords[2:])\n",
    "if \"prioritas nasional\" in search_pattern.lower():\n",
    "    search_pattern = search_pattern.replace(\"prioritas nasional\", \"pn\")\n",
    "if \"program prioritas\" in search_pattern.lower():\n",
    "    search_pattern = search_pattern.replace(\"program prioritas\", \"pp\")\n",
    "\n",
    "relation_uri = URIRef(f\"table:{relation}\")\n",
    "query = sparql_query.replace(\"?searchPattern\", f\"'{search_pattern}'\").replace(\"?relation\", f\"{relation_uri}\")\n",
    "results = g.query(query)"
   ]
  },
  {
   "cell_type": "code",
   "execution_count": 26,
   "metadata": {},
   "outputs": [
    {
     "name": "stdout",
     "output_type": "stream",
     "text": [
      "Porsi EBT dalam bauran energi nasional (%) ,  2022 : 15.70\n",
      "Porsi EBT dalam bauran energi nasional (%) ,  2023 : 17.9\n",
      "Skor Pola Pangan Harapan (PPH) ,  2022 : 92.40\n",
      "Skor Pola Pangan Harapan (PPH) ,  2023 :  94.00\n",
      "Pengelolaan dan pemanfaatan Wilayah Pengelolaan Perikanan (WPP) secara berkelanjutan (WPP) ,  2022 : 11\n",
      "Pengelolaan dan pemanfaatan Wilayah Pengelolaan Perikanan (WPP) secara berkelanjutan (WPP) ,  2023 : 11\n",
      "Rasio kewirausahaan nasional (%) ,  2022 : 3.18\n",
      "Rasio kewirausahaan nasional (%) ,  2023 : 3.21\n",
      "Pertumbuhan PDB pertanian (%) ,  2022 : 3.60 - 3.80\n",
      "Pertumbuhan PDB pertanian (%) ,  2023 : 3.2 - 3.6\n",
      "Pertumbuhan PDB perikanan (%) ,  2022 : 4.00 - 5.00\n",
      "Pertumbuhan PDB perikanan (%) ,  2023 : 5.00 - 6.00\n",
      "Pertumbuhan PDB industri pengolahan (%) ,  2023 : 5.00 - 6.00\n",
      "Pertumbuhan PDB industri pengolahan (%) ,  2023 : 5.30 - 5.70\n",
      "Kontribusi PDB industri pengolahan (%) ,  2022 : 19.90\n",
      "Kontribusi PDB industri pengolahan (%) ,  2022 : 20.60\n",
      "Nilai devisa pariwisata (miliar US$) ,  2022 : 0.86 - 1.71\n",
      "Nilai devisa pariwisata (miliar US$) ,  2023 : 2.07 - 9.05\n",
      "Kontribusi PDB pariwisata (%) ,  2022 : 3.60\n",
      "Kontribusi PDB pariwisata (%) ,  2023 : 4.10\n",
      "Penyedia lapangan kerja per tahun (juta orang) ,  2022 : 2.6 - 3.1\n",
      "Penyedia lapangan kerja per tahun (juta orang) ,  2023 : 2.7 - 3.1\n",
      "Pertumbuhan investasi (PMTB) (%) ,  2022 : 5.4 - 6.3\n",
      "Pertumbuhan investasi (PMTB) (%) ,  2023 : 6.1 - 6.3\n",
      "Pertumbuhan ekspor industri pengolahan (%) ,  2022 : 8.45\n",
      "Pertumbuhan ekspor industri pengolahan (%) ,  2023 : 11.18\n"
     ]
    }
   ],
   "source": [
    "for row in results:\n",
    "    indikator = row['indikator'].value\n",
    "    target = row['target'].value\n",
    "    print(indikator,', ', target)"
   ]
  },
  {
   "cell_type": "markdown",
   "metadata": {},
   "source": [
    "### Test 2"
   ]
  },
  {
   "cell_type": "code",
   "execution_count": 1,
   "metadata": {},
   "outputs": [],
   "source": [
    "from rdflib import Graph, Literal, URIRef\n",
    "from rdflib.namespace import RDF\n",
    "from query import get_query"
   ]
  },
  {
   "cell_type": "code",
   "execution_count": 2,
   "metadata": {},
   "outputs": [],
   "source": [
    "user_input = input(\"Masukkan query: \")"
   ]
  },
  {
   "cell_type": "code",
   "execution_count": 3,
   "metadata": {},
   "outputs": [
    {
     "data": {
      "text/plain": [
       "[{'subject': 'Memperkuat Ketahanan Ekonomi untuk Pertumbuhan yang Berkualitas dan Berkeadilan'},\n",
       " {'subject': 'Mengembangkan Wilayah untuk Mengurangi Kesenjangan dan Menjamin Pemerataan'},\n",
       " {'subject': 'Meningkatkan Sumber Daya Manusia Berkualitas dan Berdaya Saing'},\n",
       " {'subject': 'Revolusi Mental dan Pembangunan Kebudayaan'},\n",
       " {'subject': 'Memperkuat Infrastruktur untuk Mendukung Pengembangan Ekonomi dan Pelayanan Dasar'},\n",
       " {'subject': 'Membangun Lingkungan Hidup, Meningkatkan Ketahanan Bencana, dan Perubahan Iklim'},\n",
       " {'subject': 'Memperkuat Stabilitas Polhukhankam dan Transformasi Pelayanan Publik'}]"
      ]
     },
     "execution_count": 3,
     "metadata": {},
     "output_type": "execute_result"
    }
   ],
   "source": [
    "get_query(user_input)"
   ]
  },
  {
   "cell_type": "code",
   "execution_count": 4,
   "metadata": {},
   "outputs": [
    {
     "data": {
      "text/plain": [
       "['apa', 'penjabaran', 'rpjmn', '20-24']"
      ]
     },
     "execution_count": 4,
     "metadata": {},
     "output_type": "execute_result"
    }
   ],
   "source": [
    "text = \"apa penjabaran rpjmn 20-24\"\n",
    "keywords = text.split()\n",
    "keywords"
   ]
  },
  {
   "cell_type": "code",
   "execution_count": 9,
   "metadata": {},
   "outputs": [
    {
     "data": {
      "text/plain": [
       "'rpjmn'"
      ]
     },
     "execution_count": 9,
     "metadata": {},
     "output_type": "execute_result"
    }
   ],
   "source": [
    "keywords[2]"
   ]
  },
  {
   "cell_type": "code",
   "execution_count": null,
   "metadata": {},
   "outputs": [],
   "source": []
  }
 ],
 "metadata": {
  "kernelspec": {
   "display_name": "Python 3.9.16 ('tf')",
   "language": "python",
   "name": "python3"
  },
  "language_info": {
   "codemirror_mode": {
    "name": "ipython",
    "version": 3
   },
   "file_extension": ".py",
   "mimetype": "text/x-python",
   "name": "python",
   "nbconvert_exporter": "python",
   "pygments_lexer": "ipython3",
   "version": "3.9.16"
  },
  "orig_nbformat": 4,
  "vscode": {
   "interpreter": {
    "hash": "68667cee94a52a8012b3723ad81f8b1bb04bd9bd3431088fcb835e1cebcfdae3"
   }
  }
 },
 "nbformat": 4,
 "nbformat_minor": 2
}
