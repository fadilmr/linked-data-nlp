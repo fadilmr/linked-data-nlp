{
 "cells": [
  {
   "cell_type": "code",
   "execution_count": 60,
   "metadata": {},
   "outputs": [],
   "source": [
    "from rdflib import Graph, Literal, URIRef\n",
    "from rdflib.namespace import RDF"
   ]
  },
  {
   "cell_type": "code",
   "execution_count": 61,
   "metadata": {},
   "outputs": [
    {
     "data": {
      "text/plain": [
       "<Graph identifier=N07bf95da181848d19f3f0d3b2803f5db (<class 'rdflib.graph.Graph'>)>"
      ]
     },
     "execution_count": 61,
     "metadata": {},
     "output_type": "execute_result"
    }
   ],
   "source": [
    "g = Graph()\n",
    "g.parse(\"linked_data.ttl\", format=\"turtle\")"
   ]
  },
  {
   "cell_type": "code",
   "execution_count": 62,
   "metadata": {},
   "outputs": [
    {
     "data": {
      "text/plain": [
       "['target', 'sasaran', 'pn1', '2023']"
      ]
     },
     "execution_count": 62,
     "metadata": {},
     "output_type": "execute_result"
    }
   ],
   "source": [
    "user_query = \"target sasaran pn1 2023\"\n",
    "keywords = user_query.split()\n",
    "keywords"
   ]
  },
  {
   "cell_type": "code",
   "execution_count": 72,
   "metadata": {},
   "outputs": [],
   "source": [
    "# sparql_query = \"\"\"\n",
    "#     PREFIX rdf: <http://www.w3.org/1999/02/22-rdf-syntax-ns#>\n",
    "#     PREFIX owl: <http://www.w3.org/2002/07/owl#>\n",
    "#     PREFIX rdfs: <http://www.w3.org/2000/01/rdf-schema#>\n",
    "#     prefix table: <http://www.semanticweb.org/fadil/ontologies/2023/7/ldt#/>\n",
    "#     SELECT ?subject ?predicate ?object\n",
    "#     WHERE {{\n",
    "#         ?subject ?predicate ?object .\n",
    "#         FILTER CONTAINS((?object), \"{}\") .\n",
    "#     }}\n",
    "# \"\"\".format(keywords[2].lower())\n",
    "\n",
    "sparql_query = \"\"\"\n",
    "    prefix table: <http://www.semanticweb.org/fadil/ontologies/2023/7/ldt#/>\n",
    "    PREFIX rdf: <http://www.w3.org/1999/02/22-rdf-syntax-ns#>\n",
    "    PREFIX owl: <http://www.w3.org/2002/07/owl#>\n",
    "    PREFIX rdfs: <http://www.w3.org/2000/01/rdf-schema#>\n",
    "\n",
    "    select ?indikator ?target\n",
    "    where {\n",
    "        ?program rdfs:label ?programtitle .\n",
    "        ?sasaran table:ssrnpp ?program .\n",
    "        ?sasaran table:indikator ?temp .\n",
    "        ?temp rdfs:label ?indikator .\n",
    "        ?temp table:target ?target\n",
    "        FILTER CONTAINS((?programtitle), \"pp 5 - pn 1 2023\")\n",
    "}\n",
    "\"\"\""
   ]
  },
  {
   "cell_type": "code",
   "execution_count": 78,
   "metadata": {},
   "outputs": [],
   "source": [
    "user_query = \"target sasaran program prioritas 1 - prioritas nasional 1 2023\"\n",
    "keywords = user_query.split()"
   ]
  },
  {
   "cell_type": "code",
   "execution_count": 79,
   "metadata": {},
   "outputs": [
    {
     "data": {
      "text/plain": [
       "'ssrnpp'"
      ]
     },
     "execution_count": 79,
     "metadata": {},
     "output_type": "execute_result"
    }
   ],
   "source": [
    "relation = \"\"\n",
    "if keywords[2][:2].lower() == \"pn\" or keywords[2].lower() == \"prioritas\" and keywords[3].lower() == \"nasional\":\n",
    "    relation = \"ssrnpn\"\n",
    "elif keywords[2][:2].lower() == \"pp\" or keywords[2].lower() == \"program\" and keywords[3].lower() == \"prioritas\":\n",
    "    relation = \"ssrnpp\"\n",
    "    \n",
    "relation"
   ]
  },
  {
   "cell_type": "code",
   "execution_count": 80,
   "metadata": {},
   "outputs": [
    {
     "data": {
      "text/plain": [
       "'pp 1 - pn 1 2023'"
      ]
     },
     "execution_count": 80,
     "metadata": {},
     "output_type": "execute_result"
    }
   ],
   "source": [
    "search_pattern = \" \".join(keywords[2:])\n",
    "if \"prioritas nasional\" in search_pattern.lower():\n",
    "    search_pattern = search_pattern.replace(\"prioritas nasional\", \"pn\")\n",
    "if \"program prioritas\" in search_pattern.lower():\n",
    "    search_pattern = search_pattern.replace(\"program prioritas\", \"pp\")\n",
    "search_pattern"
   ]
  },
  {
   "cell_type": "code",
   "execution_count": 102,
   "metadata": {},
   "outputs": [],
   "source": [
    "# sparql_query = \"\"\"\n",
    "#     PREFIX table: <http://www.semanticweb.org/fadil/ontologies/2023/7/ldt#/>\n",
    "#     PREFIX rdf: <http://www.w3.org/1999/02/22-rdf-syntax-ns#>\n",
    "#     PREFIX rdfs: <http://www.w3.org/2000/01/rdf-schema#>\n",
    "\n",
    "#     SELECT ?subject ?object\n",
    "#     WHERE {\n",
    "#         ?program rdfs:label ?programtitle .\n",
    "        \n",
    "#         OPTIONAL {\n",
    "#             ?sasaran ?relation ?program .\n",
    "#             BIND(?relation AS ?relationType)\n",
    "#         }\n",
    "        \n",
    "#         ?sasaran table:indikator ?temp .\n",
    "#         ?temp rdfs:label ?indikator .\n",
    "#         ?temp table:target ?object\n",
    "        \n",
    "#         FILTER CONTAINS(?programtitle, ?searchPattern)\n",
    "#     }\n",
    "# \"\"\"\n",
    "\n",
    "sparql_query = \"\"\"\n",
    "    PREFIX table: <http://www.semanticweb.org/fadil/ontologies/2023/7/ldt#/>\n",
    "    PREFIX rdf: <http://www.w3.org/1999/02/22-rdf-syntax-ns#>\n",
    "    PREFIX rdfs: <http://www.w3.org/2000/01/rdf-schema#>\n",
    "\n",
    "    SELECT ?indikator ?target\n",
    "    WHERE {\n",
    "        ?program rdfs:label ?programtitle .\n",
    "        ?sasaran ?relation ?program .\n",
    "        ?sasaran table:indikator ?temp .\n",
    "        ?temp rdfs:label ?indikator .\n",
    "        ?temp table:target ?target\n",
    "        FILTER (?programtitle = ?searchPattern)\n",
    "    }\n",
    "\"\"\""
   ]
  },
  {
   "cell_type": "code",
   "execution_count": 108,
   "metadata": {},
   "outputs": [
    {
     "name": "stdout",
     "output_type": "stream",
     "text": [
      "['target', 'sasaran', 'program', 'prioritas', '1', '-', 'prioritas', 'nasional', '1', '2023']\n"
     ]
    }
   ],
   "source": [
    "user_query = input(\"Masukkan query: \")\n",
    "keywords = user_query.split()\n",
    "\n",
    "print(keywords)\n",
    "\n",
    "# relation\n",
    "relation = \"\"\n",
    "if keywords[2][:2].lower() == \"pn\" or keywords[2].lower() == \"prioritas\" and keywords[3].lower() == \"nasional\":\n",
    "    relation = \"ssrnpn\"\n",
    "elif keywords[2][:2].lower() == \"pp\" or keywords[2].lower() == \"program\" and keywords[3].lower() == \"prioritas\":\n",
    "    relation = \"ssrnpp\"\n",
    "    \n",
    "# search pattern\n",
    "search_pattern = \" \".join(keywords[2:])\n",
    "if \"prioritas nasional\" in search_pattern.lower():\n",
    "    search_pattern = search_pattern.replace(\"prioritas nasional\", \"pn\")\n",
    "if \"program prioritas\" in search_pattern.lower():\n",
    "    search_pattern = search_pattern.replace(\"program prioritas\", \"pp\")\n",
    "\n",
    "relation_uri = URIRef(f\"table:{relation}\")\n",
    "query = sparql_query.replace(\"?searchPattern\", f\"'{search_pattern}'\").replace(\"?relation\", f\"{relation_uri}\")\n",
    "results = g.query(query)"
   ]
  },
  {
   "cell_type": "code",
   "execution_count": 112,
   "metadata": {},
   "outputs": [
    {
     "name": "stdout",
     "output_type": "stream",
     "text": [
      "Kapasitas terpasang pembangkit EBT (gigawatt) - kumulatif ,  2022 : 13.91\n",
      "Kapasitas terpasang pembangkit EBT (gigawatt) - kumulatif ,  2023: 14.31\n",
      "Pemanfaatan biofuel untuk domestik (juta kilo liter) ,  2022 : 9.60\n",
      "Pemanfaatan biofuel untuk domestik (juta kilo liter) ,  2023 : 10.65\n"
     ]
    }
   ],
   "source": [
    "for row in results:\n",
    "    indikator = row['indikator'].value\n",
    "    target = row['target'].value\n",
    "    print(indikator,', ', target)"
   ]
  },
  {
   "cell_type": "code",
   "execution_count": null,
   "metadata": {},
   "outputs": [],
   "source": []
  },
  {
   "cell_type": "code",
   "execution_count": null,
   "metadata": {},
   "outputs": [],
   "source": []
  }
 ],
 "metadata": {
  "kernelspec": {
   "display_name": "Python 3.9.16 ('tf')",
   "language": "python",
   "name": "python3"
  },
  "language_info": {
   "codemirror_mode": {
    "name": "ipython",
    "version": 3
   },
   "file_extension": ".py",
   "mimetype": "text/x-python",
   "name": "python",
   "nbconvert_exporter": "python",
   "pygments_lexer": "ipython3",
   "version": "3.9.17"
  },
  "orig_nbformat": 4,
  "vscode": {
   "interpreter": {
    "hash": "68667cee94a52a8012b3723ad81f8b1bb04bd9bd3431088fcb835e1cebcfdae3"
   }
  }
 },
 "nbformat": 4,
 "nbformat_minor": 2
}
