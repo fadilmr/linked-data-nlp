{
 "cells": [
  {
   "cell_type": "code",
   "execution_count": 4,
   "metadata": {},
   "outputs": [],
   "source": [
    "from rdflib import Graph, Literal, URIRef\n",
    "from rdflib.namespace import RDF"
   ]
  },
  {
   "cell_type": "code",
   "execution_count": 5,
   "metadata": {},
   "outputs": [
    {
     "data": {
      "text/plain": [
       "<Graph identifier=N67642e80c52d432b88bb64843efa32c8 (<class 'rdflib.graph.Graph'>)>"
      ]
     },
     "execution_count": 5,
     "metadata": {},
     "output_type": "execute_result"
    }
   ],
   "source": [
    "g = Graph()\n",
    "g.parse(\"linked_data.ttl\", format=\"turtle\")"
   ]
  },
  {
   "cell_type": "code",
   "execution_count": 6,
   "metadata": {},
   "outputs": [
    {
     "data": {
      "text/plain": [
       "['target', 'sasaran', 'pn1', '2023']"
      ]
     },
     "execution_count": 6,
     "metadata": {},
     "output_type": "execute_result"
    }
   ],
   "source": [
    "user_query = \"target sasaran pn1 2023\"\n",
    "keywords = user_query.split()\n",
    "keywords"
   ]
  },
  {
   "cell_type": "code",
   "execution_count": 17,
   "metadata": {},
   "outputs": [],
   "source": [
    "sparql_query = \"\"\"\n",
    "    PREFIX rdf: <http://www.w3.org/1999/02/22-rdf-syntax-ns#>\n",
    "    PREFIX owl: <http://www.w3.org/2002/07/owl#>\n",
    "    PREFIX rdfs: <http://www.w3.org/2000/01/rdf-schema#>\n",
    "    prefix table: <http://www.semanticweb.org/fadil/ontologies/2023/7/ldt#/>\n",
    "    SELECT ?subject ?predicate ?object\n",
    "    WHERE {{\n",
    "        ?subject ?predicate ?object .\n",
    "        FILTER CONTAINS((?object), \"{}\") .\n",
    "    }}\n",
    "\"\"\".format(keywords[2].lower())"
   ]
  },
  {
   "cell_type": "code",
   "execution_count": 18,
   "metadata": {},
   "outputs": [],
   "source": [
    "results = g.query(sparql_query)"
   ]
  },
  {
   "cell_type": "code",
   "execution_count": 20,
   "metadata": {},
   "outputs": [
    {
     "name": "stdout",
     "output_type": "stream",
     "text": [
      "(rdflib.term.Literal('PN 1 2023'), rdflib.term.Literal('Meningkatnya daya dukung dan kualitas sumber daya ekonomi sebagai modalitas bagi \\npembangunan ekonomi yang berkelanjutan'), rdflib.term.Literal('Porsi EBT dalam bauran energi nasional (%)'), rdflib.term.Literal('2022 : 15.70'))\n",
      "(rdflib.term.Literal('PN 1 2023'), rdflib.term.Literal('Meningkatnya daya dukung dan kualitas sumber daya ekonomi sebagai modalitas bagi \\npembangunan ekonomi yang berkelanjutan'), rdflib.term.Literal('Porsi EBT dalam bauran energi nasional (%)'), rdflib.term.Literal('2023 : 17.9'))\n",
      "(rdflib.term.Literal('PN 1 2023'), rdflib.term.Literal('Meningkatnya daya dukung dan kualitas sumber daya ekonomi sebagai modalitas bagi \\npembangunan ekonomi yang berkelanjutan'), rdflib.term.Literal('Skor Pola Pangan Harapan (PPH)'), rdflib.term.Literal('2022 : 92.40'))\n",
      "(rdflib.term.Literal('PN 1 2023'), rdflib.term.Literal('Meningkatnya daya dukung dan kualitas sumber daya ekonomi sebagai modalitas bagi \\npembangunan ekonomi yang berkelanjutan'), rdflib.term.Literal('Skor Pola Pangan Harapan (PPH)'), rdflib.term.Literal('2023 :  94.00'))\n",
      "(rdflib.term.Literal('PN 1 2023'), rdflib.term.Literal('Meningkatnya daya dukung dan kualitas sumber daya ekonomi sebagai modalitas bagi \\npembangunan ekonomi yang berkelanjutan'), rdflib.term.Literal('Pengelolaan dan pemanfaatan Wilayah Pengelolaan Perikanan (WPP) secara berkelanjutan (WPP)', lang='en'), rdflib.term.Literal('2022 : 11'))\n",
      "(rdflib.term.Literal('PN 1 2023'), rdflib.term.Literal('Meningkatnya daya dukung dan kualitas sumber daya ekonomi sebagai modalitas bagi \\npembangunan ekonomi yang berkelanjutan'), rdflib.term.Literal('Pengelolaan dan pemanfaatan Wilayah Pengelolaan Perikanan (WPP) secara berkelanjutan (WPP)', lang='en'), rdflib.term.Literal('2023 : 11'))\n",
      "(rdflib.term.Literal('PN 1 2023'), rdflib.term.Literal('Meningkatnya nilai tambah, lapangan kerja, investasi, ekspor, dan daya saing  perekonomian', lang='en'), rdflib.term.Literal('Rasio kewirausahaan nasional (%)', lang='en'), rdflib.term.Literal('2022 : 3.18'))\n",
      "(rdflib.term.Literal('PN 1 2023'), rdflib.term.Literal('Meningkatnya nilai tambah, lapangan kerja, investasi, ekspor, dan daya saing  perekonomian', lang='en'), rdflib.term.Literal('Rasio kewirausahaan nasional (%)', lang='en'), rdflib.term.Literal('2023 : 3.21'))\n",
      "(rdflib.term.Literal('PN 1 2023'), rdflib.term.Literal('Meningkatnya nilai tambah, lapangan kerja, investasi, ekspor, dan daya saing  perekonomian', lang='en'), rdflib.term.Literal('Pertumbuhan PDB pertanian (%)', lang='en'), rdflib.term.Literal('2022 : 3.60 - 3.80'))\n",
      "(rdflib.term.Literal('PN 1 2023'), rdflib.term.Literal('Meningkatnya nilai tambah, lapangan kerja, investasi, ekspor, dan daya saing  perekonomian', lang='en'), rdflib.term.Literal('Pertumbuhan PDB pertanian (%)', lang='en'), rdflib.term.Literal('2023 : 3.2 - 3.6'))\n",
      "(rdflib.term.Literal('PN 1 2023'), rdflib.term.Literal('Meningkatnya nilai tambah, lapangan kerja, investasi, ekspor, dan daya saing  perekonomian', lang='en'), rdflib.term.Literal('Pertumbuhan PDB perikanan (%)', lang='en'), rdflib.term.Literal('2022 : 4.00 - 5.00'))\n",
      "(rdflib.term.Literal('PN 1 2023'), rdflib.term.Literal('Meningkatnya nilai tambah, lapangan kerja, investasi, ekspor, dan daya saing  perekonomian', lang='en'), rdflib.term.Literal('Pertumbuhan PDB perikanan (%)', lang='en'), rdflib.term.Literal('2023 : 5.00 - 6.00'))\n",
      "(rdflib.term.Literal('PN 1 2023'), rdflib.term.Literal('Meningkatnya nilai tambah, lapangan kerja, investasi, ekspor, dan daya saing  perekonomian', lang='en'), rdflib.term.Literal('Pertumbuhan PDB industri pengolahan (%)', lang='en'), rdflib.term.Literal('2023 : 5.00 - 6.00'))\n",
      "(rdflib.term.Literal('PN 1 2023'), rdflib.term.Literal('Meningkatnya nilai tambah, lapangan kerja, investasi, ekspor, dan daya saing  perekonomian', lang='en'), rdflib.term.Literal('Pertumbuhan PDB industri pengolahan (%)', lang='en'), rdflib.term.Literal('2023 : 5.30 - 5.70'))\n",
      "(rdflib.term.Literal('PN 1 2023'), rdflib.term.Literal('Meningkatnya nilai tambah, lapangan kerja, investasi, ekspor, dan daya saing  perekonomian', lang='en'), rdflib.term.Literal('Kontribusi PDB industri pengolahan (%)', lang='en'), rdflib.term.Literal('2022 : 19.90'))\n",
      "(rdflib.term.Literal('PN 1 2023'), rdflib.term.Literal('Meningkatnya nilai tambah, lapangan kerja, investasi, ekspor, dan daya saing  perekonomian', lang='en'), rdflib.term.Literal('Kontribusi PDB industri pengolahan (%)', lang='en'), rdflib.term.Literal('2022 : 20.60'))\n",
      "(rdflib.term.Literal('PN 1 2023'), rdflib.term.Literal('Meningkatnya nilai tambah, lapangan kerja, investasi, ekspor, dan daya saing  perekonomian', lang='en'), rdflib.term.Literal('Nilai devisa pariwisata (miliar US$)', lang='en'), rdflib.term.Literal('2022 : 0.86 - 1.71'))\n",
      "(rdflib.term.Literal('PN 1 2023'), rdflib.term.Literal('Meningkatnya nilai tambah, lapangan kerja, investasi, ekspor, dan daya saing  perekonomian', lang='en'), rdflib.term.Literal('Nilai devisa pariwisata (miliar US$)', lang='en'), rdflib.term.Literal('2023 : 2.07 - 9.05'))\n",
      "(rdflib.term.Literal('PN 1 2023'), rdflib.term.Literal('Meningkatnya nilai tambah, lapangan kerja, investasi, ekspor, dan daya saing  perekonomian', lang='en'), rdflib.term.Literal('Kontribusi PDB pariwisata (%)', lang='en'), rdflib.term.Literal('2022 : 3.60'))\n",
      "(rdflib.term.Literal('PN 1 2023'), rdflib.term.Literal('Meningkatnya nilai tambah, lapangan kerja, investasi, ekspor, dan daya saing  perekonomian', lang='en'), rdflib.term.Literal('Kontribusi PDB pariwisata (%)', lang='en'), rdflib.term.Literal('2023 : 4.10'))\n",
      "(rdflib.term.Literal('PN 1 2023'), rdflib.term.Literal('Meningkatnya nilai tambah, lapangan kerja, investasi, ekspor, dan daya saing  perekonomian', lang='en'), rdflib.term.Literal('Penyedia lapangan kerja per tahun (juta orang)', lang='en'), rdflib.term.Literal('2022 : 2.6 - 3.1'))\n",
      "(rdflib.term.Literal('PN 1 2023'), rdflib.term.Literal('Meningkatnya nilai tambah, lapangan kerja, investasi, ekspor, dan daya saing  perekonomian', lang='en'), rdflib.term.Literal('Penyedia lapangan kerja per tahun (juta orang)', lang='en'), rdflib.term.Literal('2023 : 2.7 - 3.1'))\n",
      "(rdflib.term.Literal('PN 1 2023'), rdflib.term.Literal('Meningkatnya nilai tambah, lapangan kerja, investasi, ekspor, dan daya saing  perekonomian', lang='en'), rdflib.term.Literal('Pertumbuhan investasi (PMTB) (%)', lang='en'), rdflib.term.Literal('2022 : 5.4 - 6.3'))\n",
      "(rdflib.term.Literal('PN 1 2023'), rdflib.term.Literal('Meningkatnya nilai tambah, lapangan kerja, investasi, ekspor, dan daya saing  perekonomian', lang='en'), rdflib.term.Literal('Pertumbuhan investasi (PMTB) (%)', lang='en'), rdflib.term.Literal('2023 : 6.1 - 6.3'))\n",
      "(rdflib.term.Literal('PN 1 2023'), rdflib.term.Literal('Meningkatnya nilai tambah, lapangan kerja, investasi, ekspor, dan daya saing  perekonomian', lang='en'), rdflib.term.Literal('Pertumbuhan ekspor industri pengolahan (%)', lang='en'), rdflib.term.Literal('2022 : 8.45'))\n",
      "(rdflib.term.Literal('PN 1 2023'), rdflib.term.Literal('Meningkatnya nilai tambah, lapangan kerja, investasi, ekspor, dan daya saing  perekonomian', lang='en'), rdflib.term.Literal('Pertumbuhan ekspor industri pengolahan (%)', lang='en'), rdflib.term.Literal('2023 : 11.18'))\n"
     ]
    }
   ],
   "source": [
    "for row in results:\n",
    "    print(row)"
   ]
  },
  {
   "cell_type": "code",
   "execution_count": null,
   "metadata": {},
   "outputs": [],
   "source": []
  }
 ],
 "metadata": {
  "kernelspec": {
   "display_name": "Python 3.9.16 ('tf')",
   "language": "python",
   "name": "python3"
  },
  "language_info": {
   "codemirror_mode": {
    "name": "ipython",
    "version": 3
   },
   "file_extension": ".py",
   "mimetype": "text/x-python",
   "name": "python",
   "nbconvert_exporter": "python",
   "pygments_lexer": "ipython3",
   "version": "3.9.16"
  },
  "orig_nbformat": 4,
  "vscode": {
   "interpreter": {
    "hash": "68667cee94a52a8012b3723ad81f8b1bb04bd9bd3431088fcb835e1cebcfdae3"
   }
  }
 },
 "nbformat": 4,
 "nbformat_minor": 2
}
