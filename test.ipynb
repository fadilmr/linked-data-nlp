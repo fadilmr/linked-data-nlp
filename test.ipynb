{
 "cells": [
  {
   "cell_type": "code",
   "execution_count": 2,
   "metadata": {},
   "outputs": [],
   "source": [
    "from rdflib import Graph, URIRef, Literal, Namespace"
   ]
  },
  {
   "cell_type": "code",
   "execution_count": 3,
   "metadata": {},
   "outputs": [
    {
     "data": {
      "text/plain": [
       "<Graph identifier=N7a49dff6226d4d95b82dbdf108b56aee (<class 'rdflib.graph.Graph'>)>"
      ]
     },
     "execution_count": 3,
     "metadata": {},
     "output_type": "execute_result"
    }
   ],
   "source": [
    "turtle_file = \"linked_data.ttl\"\n",
    "g = Graph()\n",
    "g.parse(turtle_file, format=\"turtle\")\n",
    " "
   ]
  },
  {
   "cell_type": "code",
   "execution_count": 4,
   "metadata": {},
   "outputs": [],
   "source": [
    "# prefix\n",
    "ns = Namespace(\"http://www.semanticweb.org/fadil/ontologies/2023/7/ldt#\")\n",
    "g.bind(\"ldt\", ns)\n"
   ]
  },
  {
   "cell_type": "code",
   "execution_count": 7,
   "metadata": {},
   "outputs": [
    {
     "name": "stdout",
     "output_type": "stream",
     "text": [
      "PN 1 2023 Meningkatnya daya dukung dan kualitas sumber daya ekonomi sebagai modalitas bagi \n",
      "pembangunan ekonomi yang berkelanjutan Porsi EBT dalam bauran energi nasional (%) 2022 : 15.70\n",
      "PN 1 2023 Meningkatnya daya dukung dan kualitas sumber daya ekonomi sebagai modalitas bagi \n",
      "pembangunan ekonomi yang berkelanjutan Porsi EBT dalam bauran energi nasional (%) 2023 : 17.9\n",
      "PN 1 2023 Meningkatnya daya dukung dan kualitas sumber daya ekonomi sebagai modalitas bagi \n",
      "pembangunan ekonomi yang berkelanjutan Skor Pola Pangan Harapan (PPH) 2022 : 92.40\n",
      "PN 1 2023 Meningkatnya daya dukung dan kualitas sumber daya ekonomi sebagai modalitas bagi \n",
      "pembangunan ekonomi yang berkelanjutan Skor Pola Pangan Harapan (PPH) 2023 :  94.00\n",
      "PN 1 2023 Meningkatnya daya dukung dan kualitas sumber daya ekonomi sebagai modalitas bagi \n",
      "pembangunan ekonomi yang berkelanjutan Pengelolaan dan pemanfaatan Wilayah Pengelolaan Perikanan (WPP) secara berkelanjutan (WPP) 2022 : 11\n",
      "PN 1 2023 Meningkatnya daya dukung dan kualitas sumber daya ekonomi sebagai modalitas bagi \n",
      "pembangunan ekonomi yang berkelanjutan Pengelolaan dan pemanfaatan Wilayah Pengelolaan Perikanan (WPP) secara berkelanjutan (WPP) 2023 : 11\n",
      "PN 1 2023 Meningkatnya nilai tambah, lapangan kerja, investasi, ekspor, dan daya saing  perekonomian Rasio kewirausahaan nasional (%) 2022 : 3.18\n",
      "PN 1 2023 Meningkatnya nilai tambah, lapangan kerja, investasi, ekspor, dan daya saing  perekonomian Rasio kewirausahaan nasional (%) 2023 : 3.21\n",
      "PN 1 2023 Meningkatnya nilai tambah, lapangan kerja, investasi, ekspor, dan daya saing  perekonomian Pertumbuhan PDB pertanian (%) 2022 : 3.60 - 3.80\n",
      "PN 1 2023 Meningkatnya nilai tambah, lapangan kerja, investasi, ekspor, dan daya saing  perekonomian Pertumbuhan PDB pertanian (%) 2023 : 3.2 - 3.6\n"
     ]
    }
   ],
   "source": [
    "# Query\n",
    "qres = g.query(\n",
    "    \"\"\" PREFIX rdf: <http://www.w3.org/1999/02/22-rdf-syntax-ns#>\n",
    "        PREFIX owl: <http://www.w3.org/2002/07/owl#>\n",
    "        PREFIX rdfs: <http://www.w3.org/2000/01/rdf-schema#>\n",
    "        prefix table: <http://www.semanticweb.org/fadil/ontologies/2023/7/ldt#/>\n",
    "\n",
    "        select ?PN ?Sasaran ?label ?target\n",
    "        where {\n",
    "            ?sasaran table:ssrnpn ?pn.\n",
    "            ?sasaran table:indikator ?indikator.\n",
    "            ?indikator rdfs:label ?label.\n",
    "            ?sasaran rdfs:label ?Sasaran.\n",
    "            ?pn rdfs:label ?PN.\n",
    "            ?indikator table:target ?target.\n",
    "        } limit 10\"\"\")\n",
    "for row in qres:\n",
    "    print(\"%s %s %s %s\" % row)"
   ]
  },
  {
   "cell_type": "code",
   "execution_count": null,
   "metadata": {},
   "outputs": [],
   "source": []
  }
 ],
 "metadata": {
  "kernelspec": {
   "display_name": "Python 3.9.16 ('tf')",
   "language": "python",
   "name": "python3"
  },
  "language_info": {
   "codemirror_mode": {
    "name": "ipython",
    "version": 3
   },
   "file_extension": ".py",
   "mimetype": "text/x-python",
   "name": "python",
   "nbconvert_exporter": "python",
   "pygments_lexer": "ipython3",
   "version": "3.9.16"
  },
  "orig_nbformat": 4,
  "vscode": {
   "interpreter": {
    "hash": "68667cee94a52a8012b3723ad81f8b1bb04bd9bd3431088fcb835e1cebcfdae3"
   }
  }
 },
 "nbformat": 4,
 "nbformat_minor": 2
}
